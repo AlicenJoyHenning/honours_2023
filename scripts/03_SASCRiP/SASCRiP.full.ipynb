{
 "cells": [
  {
   "cell_type": "code",
   "execution_count": 3,
   "id": "bc945df2",
   "metadata": {},
   "outputs": [],
   "source": [
    "# Install and load the dependencies : \n",
    "\n",
    "import SASCRiP \n",
    "import time\n",
    "from SASCRiP import sascrip_functions "
   ]
  },
  {
   "cell_type": "code",
   "execution_count": 1,
   "id": "c9871978",
   "metadata": {},
   "outputs": [
    {
     "name": "stdout",
     "output_type": "stream",
     "text": [
      "C:\\Users\\alice\n"
     ]
    }
   ],
   "source": [
    "cd"
   ]
  },
  {
   "cell_type": "code",
   "execution_count": 5,
   "id": "5393f7d0",
   "metadata": {},
   "outputs": [],
   "source": [
    "# 1. ALPHA \n",
    "# 1.1 Create variables for parameters to enter into the kallisto_bustools_count SASCRiP function : \n",
    "\n",
    "list_of_fastqs = \"D:/AlicenHonours/raw_files/fastq/human_blood_ifnalpha/\"\n",
    "single_cell_technology = \"10Xv3\"\n",
    "output_directory_path = \"D:/AlicenHonours/work/0509/alpha/kallisto_bustools_count\"\n",
    "species_index = \"D:/AlicenHonours/kallisto_index/01.09.version/index.idx\"\n",
    "species_t2g = \"D:/AlicenHonours/kallisto_index/01.09.version/transcripts_to_genes.txt\"\n",
    "input_directory = True\n",
    "read_separator = [\"R1\", \"R2\"]\n"
   ]
  },
  {
   "cell_type": "code",
   "execution_count": 6,
   "id": "889633e6",
   "metadata": {},
   "outputs": [
    {
     "ename": "CalledProcessError",
     "evalue": "Command 'C:\\Users\\alice\\anaconda3\\Lib\\site-packages\\kb_python\\bins\\windows\\kallisto\\kallisto.exe bus -i D:/AlicenHonours/darisia_index/darisia_kallisto_index.idx -o D:/AlicenHonours/work/0509/alpha/kallisto_bustools_count\\Count_analysis -x 10Xv3 -t 8 D:/AlicenHonours/raw_files/fastq/human_blood_ifnalpha/bamtofastq_S1_L007_R1_001.fastq.gz D:/AlicenHonours/raw_files/fastq/human_blood_ifnalpha/bamtofastq_S1_L007_R2_001.fastq.gz D:/AlicenHonours/raw_files/fastq/human_blood_ifnalpha/bamtofastq_S1_L007_R1_002.fastq.gz D:/AlicenHonours/raw_files/fastq/human_blood_ifnalpha/bamtofastq_S1_L007_R2_002.fastq.gz D:/AlicenHonours/raw_files/fastq/human_blood_ifnalpha/bamtofastq_S1_L007_R1_003.fastq.gz D:/AlicenHonours/raw_files/fastq/human_blood_ifnalpha/bamtofastq_S1_L007_R2_003.fastq.gz D:/AlicenHonours/raw_files/fastq/human_blood_ifnalpha/bamtofastq_S1_L007_R1_004.fastq.gz D:/AlicenHonours/raw_files/fastq/human_blood_ifnalpha/bamtofastq_S1_L007_R2_004.fastq.gz D:/AlicenHonours/raw_files/fastq/human_blood_ifnalpha/bamtofastq_S1_L007_R1_005.fastq.gz D:/AlicenHonours/raw_files/fastq/human_blood_ifnalpha/bamtofastq_S1_L007_R2_005.fastq.gz D:/AlicenHonours/raw_files/fastq/human_blood_ifnalpha/bamtofastq_S1_L007_R1_006.fastq.gz D:/AlicenHonours/raw_files/fastq/human_blood_ifnalpha/bamtofastq_S1_L007_R2_006.fastq.gz D:/AlicenHonours/raw_files/fastq/human_blood_ifnalpha/bamtofastq_S1_L007_R1_007.fastq.gz D:/AlicenHonours/raw_files/fastq/human_blood_ifnalpha/bamtofastq_S1_L007_R2_007.fastq.gz' returned non-zero exit status 1.",
     "output_type": "error",
     "traceback": [
      "\u001b[1;31m---------------------------------------------------------------------------\u001b[0m",
      "\u001b[1;31mCalledProcessError\u001b[0m                        Traceback (most recent call last)",
      "File \u001b[1;32m<timed eval>:3\u001b[0m\n",
      "File \u001b[1;32m~\\anaconda3\\Lib\\site-packages\\SASCRiP\\sascrip_functions.py:595\u001b[0m, in \u001b[0;36mkallisto_bustools_count\u001b[1;34m(list_of_fastqs, single_cell_technology, output_directory_path, species_index, species_t2g, input_directory, read_separator, generate_index, species_fasta, species_gtf, k_mer_length, intron, filter, UMI_bp, UMI_file, barcode_bp, barcode_file, transcript_bp, transcript_file, whitelist_path, path_to_prefix_count_files, memory)\u001b[0m\n\u001b[0;32m    593\u001b[0m     count\u001b[38;5;241m.\u001b[39mkallisto_bus(list_of_fastqs, species_index, converted_tech, all_count_out_path, threads\u001b[38;5;241m=\u001b[39m\u001b[38;5;241m8\u001b[39m)\n\u001b[0;32m    594\u001b[0m \u001b[38;5;28;01melse\u001b[39;00m:\n\u001b[1;32m--> 595\u001b[0m     count\u001b[38;5;241m.\u001b[39mkallisto_bus(list_of_fastqs, species_index, single_cell_technology, all_count_out_path, threads\u001b[38;5;241m=\u001b[39m\u001b[38;5;241m8\u001b[39m)\n\u001b[0;32m    597\u001b[0m \u001b[38;5;66;03m# Run bustools_sort and copy_or_create_whitelist from the kb-python package\u001b[39;00m\n\u001b[0;32m    598\u001b[0m count\u001b[38;5;241m.\u001b[39mbustools_sort(output_busfile, sorted_busfile, threads\u001b[38;5;241m=\u001b[39m\u001b[38;5;241m8\u001b[39m, memory\u001b[38;5;241m=\u001b[39mmemory)\n",
      "File \u001b[1;32m~\\anaconda3\\Lib\\site-packages\\kb_python\\count.py:62\u001b[0m, in \u001b[0;36mkallisto_bus\u001b[1;34m(fastqs, index_path, technology, out_dir, threads)\u001b[0m\n\u001b[0;32m     60\u001b[0m command \u001b[38;5;241m+\u001b[39m\u001b[38;5;241m=\u001b[39m [\u001b[38;5;124m'\u001b[39m\u001b[38;5;124m-t\u001b[39m\u001b[38;5;124m'\u001b[39m, threads]\n\u001b[0;32m     61\u001b[0m command \u001b[38;5;241m+\u001b[39m\u001b[38;5;241m=\u001b[39m fastqs\n\u001b[1;32m---> 62\u001b[0m run_executable(command)\n\u001b[0;32m     63\u001b[0m \u001b[38;5;28;01mreturn\u001b[39;00m {\n\u001b[0;32m     64\u001b[0m     \u001b[38;5;124m'\u001b[39m\u001b[38;5;124mbus\u001b[39m\u001b[38;5;124m'\u001b[39m: os\u001b[38;5;241m.\u001b[39mpath\u001b[38;5;241m.\u001b[39mjoin(out_dir, BUS_FILENAME),\n\u001b[0;32m     65\u001b[0m     \u001b[38;5;124m'\u001b[39m\u001b[38;5;124mecmap\u001b[39m\u001b[38;5;124m'\u001b[39m: os\u001b[38;5;241m.\u001b[39mpath\u001b[38;5;241m.\u001b[39mjoin(out_dir, ECMAP_FILENAME),\n\u001b[0;32m     66\u001b[0m     \u001b[38;5;124m'\u001b[39m\u001b[38;5;124mtxnames\u001b[39m\u001b[38;5;124m'\u001b[39m: os\u001b[38;5;241m.\u001b[39mpath\u001b[38;5;241m.\u001b[39mjoin(out_dir, TXNAMES_FILENAME),\n\u001b[0;32m     67\u001b[0m }\n",
      "File \u001b[1;32m~\\anaconda3\\Lib\\site-packages\\kb_python\\utils.py:114\u001b[0m, in \u001b[0;36mrun_executable\u001b[1;34m(command, stdin, stdout, stderr, wait, stream, quiet, returncode)\u001b[0m\n\u001b[0;32m    111\u001b[0m             time\u001b[38;5;241m.\u001b[39msleep(\u001b[38;5;241m1\u001b[39m)\n\u001b[0;32m    113\u001b[0m     \u001b[38;5;28;01mif\u001b[39;00m \u001b[38;5;129;01mnot\u001b[39;00m quiet \u001b[38;5;129;01mand\u001b[39;00m p\u001b[38;5;241m.\u001b[39mreturncode \u001b[38;5;241m!=\u001b[39m returncode:\n\u001b[1;32m--> 114\u001b[0m         \u001b[38;5;28;01mraise\u001b[39;00m sp\u001b[38;5;241m.\u001b[39mCalledProcessError(p\u001b[38;5;241m.\u001b[39mreturncode, \u001b[38;5;124m'\u001b[39m\u001b[38;5;124m \u001b[39m\u001b[38;5;124m'\u001b[39m\u001b[38;5;241m.\u001b[39mjoin(command))\n\u001b[0;32m    116\u001b[0m \u001b[38;5;28;01mreturn\u001b[39;00m p\n",
      "\u001b[1;31mCalledProcessError\u001b[0m: Command 'C:\\Users\\alice\\anaconda3\\Lib\\site-packages\\kb_python\\bins\\windows\\kallisto\\kallisto.exe bus -i D:/AlicenHonours/darisia_index/darisia_kallisto_index.idx -o D:/AlicenHonours/work/0509/alpha/kallisto_bustools_count\\Count_analysis -x 10Xv3 -t 8 D:/AlicenHonours/raw_files/fastq/human_blood_ifnalpha/bamtofastq_S1_L007_R1_001.fastq.gz D:/AlicenHonours/raw_files/fastq/human_blood_ifnalpha/bamtofastq_S1_L007_R2_001.fastq.gz D:/AlicenHonours/raw_files/fastq/human_blood_ifnalpha/bamtofastq_S1_L007_R1_002.fastq.gz D:/AlicenHonours/raw_files/fastq/human_blood_ifnalpha/bamtofastq_S1_L007_R2_002.fastq.gz D:/AlicenHonours/raw_files/fastq/human_blood_ifnalpha/bamtofastq_S1_L007_R1_003.fastq.gz D:/AlicenHonours/raw_files/fastq/human_blood_ifnalpha/bamtofastq_S1_L007_R2_003.fastq.gz D:/AlicenHonours/raw_files/fastq/human_blood_ifnalpha/bamtofastq_S1_L007_R1_004.fastq.gz D:/AlicenHonours/raw_files/fastq/human_blood_ifnalpha/bamtofastq_S1_L007_R2_004.fastq.gz D:/AlicenHonours/raw_files/fastq/human_blood_ifnalpha/bamtofastq_S1_L007_R1_005.fastq.gz D:/AlicenHonours/raw_files/fastq/human_blood_ifnalpha/bamtofastq_S1_L007_R2_005.fastq.gz D:/AlicenHonours/raw_files/fastq/human_blood_ifnalpha/bamtofastq_S1_L007_R1_006.fastq.gz D:/AlicenHonours/raw_files/fastq/human_blood_ifnalpha/bamtofastq_S1_L007_R2_006.fastq.gz D:/AlicenHonours/raw_files/fastq/human_blood_ifnalpha/bamtofastq_S1_L007_R1_007.fastq.gz D:/AlicenHonours/raw_files/fastq/human_blood_ifnalpha/bamtofastq_S1_L007_R2_007.fastq.gz' returned non-zero exit status 1."
     ]
    }
   ],
   "source": [
    "%%time \n",
    "# 1. ALPHA \n",
    "# 1.2 Run kallisto_bustools_count : \n",
    "\n",
    "sascrip_functions.kallisto_bustools_count(\n",
    "    list_of_fastqs = list_of_fastqs, \n",
    "    single_cell_technology = single_cell_technology,\n",
    "    output_directory_path = output_directory_path,\n",
    "    species_index = species_index, \n",
    "    species_t2g = species_t2g, \n",
    "    input_directory = input_directory,\n",
    "    read_separator = read_separator \n",
    ")\n"
   ]
  },
  {
   "cell_type": "code",
   "execution_count": null,
   "id": "095ff66f",
   "metadata": {},
   "outputs": [],
   "source": [
    "# 1. ALPHA\n",
    "# 1.3 Create variables for parameters to enter into the seurat_matrix SASCRiP function : \n",
    "\n",
    "matrix_file = \"D:AlicenHonours/work/0509/alpha/kallisto_bustools_count/Count_analysis/filtered_counts/filtered_counts.mtx\"\n",
    "gene_index = \"D:AlicenHonours/work/0509/alpha/kallisto_bustools_count/Count_analysis/filtered_counts/filtered_counts.genes.txt\"\n",
    "barcode_index = \"D:AlicenHonours/work/0509/alpha/kallisto_bustools_count/Count_analysis/filtered_counts/filtered_counts.barcodes.txt\"\n",
    "\n",
    "output_directory = \"D:AlicenHonours/work/0509/alpha/seurat_matrix\"\n",
    "t2g_file = \"D:/AlicenHonours/kallisto_index/01.09.version/transcripts_to_genes.txt\"\n",
    "\n"
   ]
  },
  {
   "cell_type": "code",
   "execution_count": null,
   "id": "b99a0dd7-f7d6-4800-bdc1-a858808c3333",
   "metadata": {},
   "outputs": [],
   "source": [
    "%%time\n",
    "# 1. ALPHA\n",
    "# 1.4 Exectue the function : \n",
    "\n",
    "sascrip_functions.seurat_matrix(\n",
    "    matrix_file = matrix_file,\n",
    "    gene_index = gene_index,\n",
    "    barcode_index = barcode_index,\n",
    "    output_directory = output_directory, \n",
    "    t2g_file = t2g_file,\n",
    "    add_hgnc = True\n",
    ")\n"
   ]
  },
  {
   "cell_type": "code",
   "execution_count": null,
   "id": "df2f3bbc-2d9e-4792-acec-18343d97e8a7",
   "metadata": {},
   "outputs": [],
   "source": [
    "# 2. LAMBDA\n",
    "# 2.1 Create variables for parameters to enter into the kallisto_bustools_count SASCRiP function : \n",
    "\n",
    "list_of_fastqs = \"D:/AlicenHonours/raw_files/fastq/human_blood_ifnlambda/\"\n",
    "single_cell_technology = \"10Xv3\"\n",
    "output_directory_path = \"D:/AlicenHonours/work/0509/lambda/kallisto_bustools_count\"\n",
    "species_index = \"D:/AlicenHonours/kallisto_index/01.09.version/index.idx\"\n",
    "species_t2g = \"D:/AlicenHonours/kallisto_index/01.09.version/transcripts_to_genes.txt\"\n",
    "input_directory = True\n",
    "read_separator = [\"R1\", \"R2\"]\n"
   ]
  },
  {
   "cell_type": "code",
   "execution_count": null,
   "id": "d10011a2-78c7-4f96-9efc-de18247d544e",
   "metadata": {},
   "outputs": [],
   "source": [
    "%%time\n",
    "# 2. LAMBDA\n",
    "# 2.2 Run kallisto_bustools_count : \n",
    "\n",
    "sascrip_functions.kallisto_bustools_count(\n",
    "    list_of_fastqs = list_of_fastqs, \n",
    "    single_cell_technology = single_cell_technology,\n",
    "    output_directory_path = output_directory_path,\n",
    "    species_index = species_index, \n",
    "    species_t2g = species_t2g, \n",
    "    input_directory = input_directory,\n",
    "    read_separator = read_separator \n",
    ")\n"
   ]
  },
  {
   "cell_type": "code",
   "execution_count": null,
   "id": "f6cc21b5-49e7-46c0-9f33-19327c3b7fb1",
   "metadata": {},
   "outputs": [],
   "source": [
    "# 2. LAMBDA\n",
    "# 2.3 Create variables for parameters to enter into the seurat_matrix SASCRiP function : \n",
    "\n",
    "matrix_file = \"D:AlicenHonours/work/0509/lambda/kallisto_bustools_count/Count_analysis/filtered_counts/filtered_counts.mtx\"\n",
    "gene_index = \"D:AlicenHonours/work/0509/lambda/kallisto_bustools_count/Count_analysis/filtered_counts/filtered_counts.genes.txt\"\n",
    "barcode_index = \"D:AlicenHonours/work/0509/lambda/kallisto_bustools_count/Count_analysis/filtered_counts/filtered_counts.barcodes.txt\"\n",
    "\n",
    "output_directory = \"D:AlicenHonours/work/0509/lambda/seurat_matrix\"\n",
    "t2g_file = \"D:/AlicenHonours/kallisto_index/01.09.version/transcripts_to_genes.txt\"\n",
    "\n"
   ]
  },
  {
   "cell_type": "code",
   "execution_count": null,
   "id": "f06f0117-a989-4026-8e96-65bc1916092e",
   "metadata": {},
   "outputs": [],
   "source": [
    "# 2. LAMBDA\n",
    "# 2.4 Exectue the function : \n",
    "\n",
    "sascrip_functions.seurat_matrix(\n",
    "    matrix_file = matrix_file,\n",
    "    gene_index = gene_index,\n",
    "    barcode_index = barcode_index,\n",
    "    output_directory = output_directory, \n",
    "    t2g_file = t2g_file,\n",
    "    add_hgnc = True\n",
    ")\n"
   ]
  },
  {
   "cell_type": "code",
   "execution_count": null,
   "id": "4440e481-14d8-4d9c-bcb0-c2c0423dcb3b",
   "metadata": {},
   "outputs": [],
   "source": [
    "# 3. UNTREATED\n",
    "# 3.1 Create variables for parameters to enter into the kallisto_bustools_count SASCRiP function : \n",
    "\n",
    "list_of_fastqs = \"D:/AlicenHonours/raw_files/fastq/human_blood_untreated/\"\n",
    "single_cell_technology = \"10Xv3\"\n",
    "output_directory_path = \"D:/AlicenHonours/work/0509/untreated/kallisto_bustools_count\"\n",
    "species_index = \"D:/AlicenHonours/kallisto_index/01.09.version/index.idx\"\n",
    "species_t2g = \"D:/AlicenHonours/kallisto_index/01.09.version/transcripts_to_genes.txt\"\n",
    "input_directory = True\n",
    "read_separator = [\"R1\", \"R2\"]\n"
   ]
  },
  {
   "cell_type": "code",
   "execution_count": null,
   "id": "983688cb-5be2-4998-b812-b245fdc0b2d2",
   "metadata": {},
   "outputs": [],
   "source": [
    "%%time \n",
    "# 3. UNTREATED\n",
    "# 3.2 Run kallisto_bustools_count : \n",
    "\n",
    "sascrip_functions.kallisto_bustools_count(\n",
    "    list_of_fastqs = list_of_fastqs, \n",
    "    single_cell_technology = single_cell_technology,\n",
    "    output_directory_path = output_directory_path,\n",
    "    species_index = species_index, \n",
    "    species_t2g = species_t2g, \n",
    "    input_directory = input_directory,\n",
    "    read_separator = read_separator \n",
    ")\n"
   ]
  },
  {
   "cell_type": "code",
   "execution_count": null,
   "id": "f0ff6a97-046b-4646-92ac-296319b6e778",
   "metadata": {},
   "outputs": [],
   "source": [
    "# 3. UNTREATED\n",
    "# 3.3 Create variables for parameters to enter into the seurat_matrix SASCRiP function : \n",
    "\n",
    "matrix_file = \"D:AlicenHonours/work/0509/untreated/kallisto_bustools_count/Count_analysis/filtered_counts/filtered_counts.mtx\"\n",
    "gene_index = \"D:AlicenHonours/work/0509/untreated/kallisto_bustools_count/Count_analysis/filtered_counts/filtered_counts.genes.txt\"\n",
    "barcode_index = \"D:AlicenHonours/work/0509/untreated/kallisto_bustools_count/Count_analysis/filtered_counts/filtered_counts.barcodes.txt\"\n",
    "\n",
    "output_directory = \"D:AlicenHonours/work/0509/untreated/seurat_matrix\"\n",
    "t2g_file = \"D:/AlicenHonours/kallisto_index/01.09.version/transcripts_to_genes.txt\"\n",
    "\n"
   ]
  },
  {
   "cell_type": "code",
   "execution_count": null,
   "id": "beaf0f97-75fe-4f97-91fc-d48581463d5f",
   "metadata": {},
   "outputs": [],
   "source": [
    "%%time\n",
    "# 3. UNTREATED\n",
    "# 3.4 Exectue the function : \n",
    "\n",
    "sascrip_functions.seurat_matrix(\n",
    "    matrix_file = matrix_file,\n",
    "    gene_index = gene_index,\n",
    "    barcode_index = barcode_index,\n",
    "    output_directory = output_directory, \n",
    "    t2g_file = t2g_file,\n",
    "    add_hgnc = True\n",
    ")\n",
    "\n"
   ]
  }
 ],
 "metadata": {
  "kernelspec": {
   "display_name": "Python 3 (ipykernel)",
   "language": "python",
   "name": "python3"
  },
  "language_info": {
   "codemirror_mode": {
    "name": "ipython",
    "version": 3
   },
   "file_extension": ".py",
   "mimetype": "text/x-python",
   "name": "python",
   "nbconvert_exporter": "python",
   "pygments_lexer": "ipython3",
   "version": "3.11.4"
  }
 },
 "nbformat": 4,
 "nbformat_minor": 5
}
