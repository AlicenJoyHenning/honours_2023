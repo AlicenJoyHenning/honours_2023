{
 "cells": [
  {
   "cell_type": "code",
   "execution_count": 3,
   "id": "07a030ef",
   "metadata": {},
   "outputs": [
    {
     "name": "stdout",
     "output_type": "stream",
     "text": [
      "Collecting SASCRiP\n",
      "  Using cached SASCRiP-1.0.2-py3-none-any.whl (36 kB)\n",
      "Collecting Kb-python==0.24.1 (from SASCRiP)\n",
      "  Using cached kb_python-0.24.1-py3-none-any.whl (35.4 MB)\n",
      "Requirement already satisfied: anndata>=0.6.22.post1 in c:\\users\\alice\\anaconda3\\lib\\site-packages (from Kb-python==0.24.1->SASCRiP) (0.9.2)\n",
      "Requirement already satisfied: loompy>=3.0.6 in c:\\users\\alice\\anaconda3\\lib\\site-packages (from Kb-python==0.24.1->SASCRiP) (3.0.6)\n",
      "Requirement already satisfied: pandas!=2.0.1,>=1.1.1 in c:\\users\\alice\\anaconda3\\lib\\site-packages (from anndata>=0.6.22.post1->Kb-python==0.24.1->SASCRiP) (1.5.3)\n",
      "Requirement already satisfied: numpy>=1.16.5 in c:\\users\\alice\\anaconda3\\lib\\site-packages (from anndata>=0.6.22.post1->Kb-python==0.24.1->SASCRiP) (1.24.3)\n",
      "Requirement already satisfied: scipy>1.4 in c:\\users\\alice\\anaconda3\\lib\\site-packages (from anndata>=0.6.22.post1->Kb-python==0.24.1->SASCRiP) (1.10.1)\n",
      "Requirement already satisfied: h5py>=3 in c:\\users\\alice\\anaconda3\\lib\\site-packages (from anndata>=0.6.22.post1->Kb-python==0.24.1->SASCRiP) (3.7.0)\n",
      "Requirement already satisfied: natsort in c:\\users\\alice\\anaconda3\\lib\\site-packages (from anndata>=0.6.22.post1->Kb-python==0.24.1->SASCRiP) (8.4.0)\n",
      "Requirement already satisfied: packaging>=20 in c:\\users\\alice\\anaconda3\\lib\\site-packages (from anndata>=0.6.22.post1->Kb-python==0.24.1->SASCRiP) (23.0)\n",
      "Requirement already satisfied: setuptools in c:\\users\\alice\\anaconda3\\lib\\site-packages (from loompy>=3.0.6->Kb-python==0.24.1->SASCRiP) (68.0.0)\n",
      "Requirement already satisfied: numba in c:\\users\\alice\\anaconda3\\lib\\site-packages (from loompy>=3.0.6->Kb-python==0.24.1->SASCRiP) (0.57.0)\n",
      "Requirement already satisfied: click in c:\\users\\alice\\anaconda3\\lib\\site-packages (from loompy>=3.0.6->Kb-python==0.24.1->SASCRiP) (8.0.4)\n",
      "Requirement already satisfied: numpy-groupies in c:\\users\\alice\\anaconda3\\lib\\site-packages (from loompy>=3.0.6->Kb-python==0.24.1->SASCRiP) (0.9.22)\n",
      "Requirement already satisfied: python-dateutil>=2.8.1 in c:\\users\\alice\\anaconda3\\lib\\site-packages (from pandas!=2.0.1,>=1.1.1->anndata>=0.6.22.post1->Kb-python==0.24.1->SASCRiP) (2.8.2)\n",
      "Requirement already satisfied: pytz>=2020.1 in c:\\users\\alice\\anaconda3\\lib\\site-packages (from pandas!=2.0.1,>=1.1.1->anndata>=0.6.22.post1->Kb-python==0.24.1->SASCRiP) (2022.7)\n",
      "Requirement already satisfied: colorama in c:\\users\\alice\\anaconda3\\lib\\site-packages (from click->loompy>=3.0.6->Kb-python==0.24.1->SASCRiP) (0.4.6)\n",
      "Requirement already satisfied: llvmlite<0.41,>=0.40.0dev0 in c:\\users\\alice\\anaconda3\\lib\\site-packages (from numba->loompy>=3.0.6->Kb-python==0.24.1->SASCRiP) (0.40.0)\n",
      "Requirement already satisfied: six>=1.5 in c:\\users\\alice\\anaconda3\\lib\\site-packages (from python-dateutil>=2.8.1->pandas!=2.0.1,>=1.1.1->anndata>=0.6.22.post1->Kb-python==0.24.1->SASCRiP) (1.16.0)\n",
      "Installing collected packages: Kb-python, SASCRiP\n",
      "  Attempting uninstall: Kb-python\n",
      "    Found existing installation: kb-python 0.25.1\n",
      "    Uninstalling kb-python-0.25.1:\n",
      "      Successfully uninstalled kb-python-0.25.1\n",
      "Successfully installed Kb-python-0.24.1 SASCRiP-1.0.2\n"
     ]
    }
   ],
   "source": [
    "!pip install SASCRiP"
   ]
  },
  {
   "cell_type": "code",
   "execution_count": 8,
   "id": "acd9e000",
   "metadata": {},
   "outputs": [],
   "source": [
    "import kb_python"
   ]
  },
  {
   "cell_type": "code",
   "execution_count": 9,
   "id": "38d8ba3b",
   "metadata": {},
   "outputs": [
    {
     "name": "stdout",
     "output_type": "stream",
     "text": [
      "Help on package kb_python:\n",
      "\n",
      "NAME\n",
      "    kb_python\n",
      "\n",
      "PACKAGE CONTENTS\n",
      "    config\n",
      "    constants\n",
      "    count\n",
      "    fasta\n",
      "    gtf\n",
      "    main\n",
      "    ref\n",
      "    utils\n",
      "\n",
      "VERSION\n",
      "    0.25.1\n",
      "\n",
      "FILE\n",
      "    c:\\users\\alice\\anaconda3\\lib\\site-packages\\kb_python\\__init__.py\n",
      "\n",
      "\n"
     ]
    }
   ],
   "source": [
    "help(kb_python)"
   ]
  },
  {
   "cell_type": "code",
   "execution_count": 4,
   "id": "bc945df2",
   "metadata": {},
   "outputs": [],
   "source": [
    "# Install and load the dependencies : \n",
    "\n",
    "import SASCRiP \n",
    "import time\n",
    "from SASCRiP import sascrip_functions "
   ]
  },
  {
   "cell_type": "code",
   "execution_count": 5,
   "id": "c9871978",
   "metadata": {},
   "outputs": [
    {
     "name": "stdout",
     "output_type": "stream",
     "text": [
      "C:\\Users\\alice\n"
     ]
    }
   ],
   "source": [
    "cd"
   ]
  },
  {
   "cell_type": "code",
   "execution_count": 16,
   "id": "5393f7d0",
   "metadata": {},
   "outputs": [],
   "source": [
    "# Create variables for parameters to enter into the kallisto_bustools_count SASCRiP function : \n",
    "\n",
    "list_of_fastqs = \"D:/AlicenHonours/raw_files/fastq/human_blood_ifnalpha/\"\n",
    "single_cell_technology = \"10Xv3\"\n",
    "output_directory_path = \"D:/AlicenHonours/work/0509/alpha/kallisto_bustools_count\"\n",
    "species_index = \"D:/AlicenHonours/darisia_index/darisia_kallisto_index.idx\"\n",
    "species_t2g = \"D:/AlicenHonours/darisia_index/transcripts_to_genes.txt\"\n",
    "input_directory = True\n",
    "read_separator = [\"R1\", \"R2\"]"
   ]
  },
  {
   "cell_type": "code",
   "execution_count": 17,
   "id": "889633e6",
   "metadata": {},
   "outputs": [
    {
     "ename": "CalledProcessError",
     "evalue": "Command 'C:\\Users\\alice\\anaconda3\\Lib\\site-packages\\kb_python\\bins\\windows\\bustools\\bustools.exe sort -o D:/AlicenHonours/work/0509/alpha/kallisto_bustools_count\\Count_analysis\\sorted.bus -T tmp -t 8 -m 4G D:/AlicenHonours/work/0509/alpha/kallisto_bustools_count\\Count_analysis\\output.bus' returned non-zero exit status 3221225477.",
     "output_type": "error",
     "traceback": [
      "\u001b[1;31m---------------------------------------------------------------------------\u001b[0m",
      "\u001b[1;31mCalledProcessError\u001b[0m                        Traceback (most recent call last)",
      "File \u001b[1;32m<timed eval>:3\u001b[0m\n",
      "File \u001b[1;32m~\\anaconda3\\Lib\\site-packages\\SASCRiP\\sascrip_functions.py:598\u001b[0m, in \u001b[0;36mkallisto_bustools_count\u001b[1;34m(list_of_fastqs, single_cell_technology, output_directory_path, species_index, species_t2g, input_directory, read_separator, generate_index, species_fasta, species_gtf, k_mer_length, intron, filter, UMI_bp, UMI_file, barcode_bp, barcode_file, transcript_bp, transcript_file, whitelist_path, path_to_prefix_count_files, memory)\u001b[0m\n\u001b[0;32m    595\u001b[0m     count\u001b[38;5;241m.\u001b[39mkallisto_bus(list_of_fastqs, species_index, single_cell_technology, all_count_out_path, threads\u001b[38;5;241m=\u001b[39m\u001b[38;5;241m8\u001b[39m)\n\u001b[0;32m    597\u001b[0m \u001b[38;5;66;03m# Run bustools_sort and copy_or_create_whitelist from the kb-python package\u001b[39;00m\n\u001b[1;32m--> 598\u001b[0m count\u001b[38;5;241m.\u001b[39mbustools_sort(output_busfile, sorted_busfile, threads\u001b[38;5;241m=\u001b[39m\u001b[38;5;241m8\u001b[39m, memory\u001b[38;5;241m=\u001b[39mmemory)\n\u001b[0;32m    599\u001b[0m \u001b[38;5;28;01mif\u001b[39;00m single_cell_technology \u001b[38;5;241m==\u001b[39m \u001b[38;5;124m\"\u001b[39m\u001b[38;5;124munsupported\u001b[39m\u001b[38;5;124m\"\u001b[39m:\n\u001b[0;32m    600\u001b[0m     whitelist_path \u001b[38;5;241m=\u001b[39m os\u001b[38;5;241m.\u001b[39mpath\u001b[38;5;241m.\u001b[39mjoin(\n\u001b[0;32m    601\u001b[0m         all_count_out_path,\n\u001b[0;32m    602\u001b[0m         \u001b[38;5;124m\"\u001b[39m\u001b[38;5;124mwhitelist\u001b[39m\u001b[38;5;124m\"\u001b[39m\n\u001b[0;32m    603\u001b[0m     )\n",
      "File \u001b[1;32m~\\anaconda3\\Lib\\site-packages\\kb_python\\count.py:94\u001b[0m, in \u001b[0;36mbustools_sort\u001b[1;34m(bus_path, out_path, temp_dir, threads, memory)\u001b[0m\n\u001b[0;32m     92\u001b[0m command \u001b[38;5;241m+\u001b[39m\u001b[38;5;241m=\u001b[39m [\u001b[38;5;124m'\u001b[39m\u001b[38;5;124m-m\u001b[39m\u001b[38;5;124m'\u001b[39m, memory]\n\u001b[0;32m     93\u001b[0m command \u001b[38;5;241m+\u001b[39m\u001b[38;5;241m=\u001b[39m [bus_path]\n\u001b[1;32m---> 94\u001b[0m run_executable(command)\n\u001b[0;32m     95\u001b[0m \u001b[38;5;28;01mreturn\u001b[39;00m {\u001b[38;5;124m'\u001b[39m\u001b[38;5;124mbus\u001b[39m\u001b[38;5;124m'\u001b[39m: out_path}\n",
      "File \u001b[1;32m~\\anaconda3\\Lib\\site-packages\\kb_python\\utils.py:114\u001b[0m, in \u001b[0;36mrun_executable\u001b[1;34m(command, stdin, stdout, stderr, wait, stream, quiet, returncode)\u001b[0m\n\u001b[0;32m    111\u001b[0m             time\u001b[38;5;241m.\u001b[39msleep(\u001b[38;5;241m1\u001b[39m)\n\u001b[0;32m    113\u001b[0m     \u001b[38;5;28;01mif\u001b[39;00m \u001b[38;5;129;01mnot\u001b[39;00m quiet \u001b[38;5;129;01mand\u001b[39;00m p\u001b[38;5;241m.\u001b[39mreturncode \u001b[38;5;241m!=\u001b[39m returncode:\n\u001b[1;32m--> 114\u001b[0m         \u001b[38;5;28;01mraise\u001b[39;00m sp\u001b[38;5;241m.\u001b[39mCalledProcessError(p\u001b[38;5;241m.\u001b[39mreturncode, \u001b[38;5;124m'\u001b[39m\u001b[38;5;124m \u001b[39m\u001b[38;5;124m'\u001b[39m\u001b[38;5;241m.\u001b[39mjoin(command))\n\u001b[0;32m    116\u001b[0m \u001b[38;5;28;01mreturn\u001b[39;00m p\n",
      "\u001b[1;31mCalledProcessError\u001b[0m: Command 'C:\\Users\\alice\\anaconda3\\Lib\\site-packages\\kb_python\\bins\\windows\\bustools\\bustools.exe sort -o D:/AlicenHonours/work/0509/alpha/kallisto_bustools_count\\Count_analysis\\sorted.bus -T tmp -t 8 -m 4G D:/AlicenHonours/work/0509/alpha/kallisto_bustools_count\\Count_analysis\\output.bus' returned non-zero exit status 3221225477."
     ]
    }
   ],
   "source": [
    "%%time \n",
    "\n",
    "# Run kallisto_bustools_count : \n",
    "\n",
    "sascrip_functions.kallisto_bustools_count(\n",
    "    list_of_fastqs = list_of_fastqs, \n",
    "    single_cell_technology = single_cell_technology,\n",
    "    output_directory_path = output_directory_path,\n",
    "    species_index = species_index, \n",
    "    species_t2g = species_t2g, \n",
    "    input_directory = input_directory,\n",
    "    read_separator = read_separator \n",
    ")\n"
   ]
  },
  {
   "cell_type": "code",
   "execution_count": null,
   "id": "095ff66f",
   "metadata": {},
   "outputs": [],
   "source": [
    "# Create variables for parameters to enter into the seurat_matrix SASCRiP function : \n",
    "\n",
    "matrix_file = \"Alicen/work_files/ifnalpha/kallisto_bustools_count/Count_analysis/filtered_counts/filtered_counts.mtx\"\n",
    "gene_index = \"Alicen/work_files/ifnalpha/kallisto_bustools_count/Count_analysis/filtered_counts/filtered_counts.genes.txt\"\n",
    "barcode_index = \"Alicen/work_files/ifnalpha/kallisto_bustools_count/Count_analysis/filtered_counts/filtered_counts.barcodes.txt\"\n",
    "\n",
    "output_directory = \"C:/Users/alice/honours/work/04Index/alpha/seurat_matrix\"\n",
    "t2g_file = \"C:/Users/alice/honours/kallisto_index/01.09.version/tr2g.tsv\""
   ]
  }
 ],
 "metadata": {
  "kernelspec": {
   "display_name": "Python 3 (ipykernel)",
   "language": "python",
   "name": "python3"
  },
  "language_info": {
   "codemirror_mode": {
    "name": "ipython",
    "version": 3
   },
   "file_extension": ".py",
   "mimetype": "text/x-python",
   "name": "python",
   "nbconvert_exporter": "python",
   "pygments_lexer": "ipython3",
   "version": "3.11.4"
  }
 },
 "nbformat": 4,
 "nbformat_minor": 5
}
