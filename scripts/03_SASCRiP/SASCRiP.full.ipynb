{
 "cells": [
  {
   "cell_type": "code",
   "execution_count": 1,
   "id": "bc945df2",
   "metadata": {},
   "outputs": [],
   "source": [
    "# Install and load the dependencies : \n",
    "\n",
    "import SASCRiP \n",
    "import time\n",
    "from SASCRiP import sascrip_functions \n"
   ]
  },
  {
   "cell_type": "code",
   "execution_count": 2,
   "id": "c9871978",
   "metadata": {},
   "outputs": [
    {
     "name": "stdout",
     "output_type": "stream",
     "text": [
      "/home/intel6700\n"
     ]
    }
   ],
   "source": [
    "cd"
   ]
  },
  {
   "cell_type": "code",
   "execution_count": 12,
   "id": "5393f7d0",
   "metadata": {},
   "outputs": [],
   "source": [
    "# 1. ALPHA \n",
    "# 1.1 Create variables for parameters to enter into the kallisto_bustools_count SASCRiP function : \n",
    "\n",
    "list_of_fastqs = \"/home/intel6700/../../media/intel6700/Passport/AlicenHonours/raw_files/fastq/human_blood_ifnalpha/\"\n",
    "single_cell_technology = \"10xv3\"\n",
    "output_directory_path = \"/home/intel6700/../../media/intel6700/Passport/AlicenHonours/work/0909/alpha/kallisto_bustools_count/\"\n",
    "species_index = \"/home/intel6700/../../media/intel6700/Passport/AlicenHonours/kallisto_index/0909version/index.idx\"\n",
    "species_t2g = \"/home/intel6700/../../media/intel6700/Passport/AlicenHonours/kallisto_index/0909version/corrected_t2g.tsv\"\n",
    "input_directory = True\n",
    "read_separator = [\"R1\", \"R2\"]\n"
   ]
  },
  {
   "cell_type": "code",
   "execution_count": 13,
   "id": "fd906bf9-dfb6-4052-8afd-25a7ac074ae7",
   "metadata": {},
   "outputs": [
    {
     "name": "stdout",
     "output_type": "stream",
     "text": [
      "CPU times: user 434 ms, sys: 229 ms, total: 663 ms\n",
      "Wall time: 13min 21s\n"
     ]
    },
    {
     "data": {
      "text/plain": [
       "{'transcript_to_genes': '/home/intel6700/../../media/intel6700/Passport/AlicenHonours/kallisto_index/0909version/corrected_t2g.tsv',\n",
       " 'ec_mapping_file': '/home/intel6700/../../media/intel6700/Passport/AlicenHonours/work/0909/alpha/kallisto_bustools_count/Count_analysis/matrix.ec'}"
      ]
     },
     "execution_count": 13,
     "metadata": {},
     "output_type": "execute_result"
    }
   ],
   "source": [
    "%%time \n",
    "# 1. ALPHA \n",
    "# 1.2 Run kallisto_bustools_count : \n",
    "\n",
    "sascrip_functions.kallisto_bustools_count(\n",
    "    list_of_fastqs = list_of_fastqs, \n",
    "    single_cell_technology = single_cell_technology,\n",
    "    output_directory_path = output_directory_path,\n",
    "    species_index = species_index, \n",
    "    species_t2g = species_t2g, \n",
    "    input_directory = input_directory,\n",
    "    read_separator = read_separator \n",
    ")\n"
   ]
  },
  {
   "cell_type": "code",
   "execution_count": 14,
   "id": "095ff66f",
   "metadata": {},
   "outputs": [],
   "source": [
    "# 1. ALPHA\n",
    "# 1.3 Create variables for parameters to enter into the seurat_matrix SASCRiP function : \n",
    "\n",
    "matrix_file = \"/home/intel6700/../../media/intel6700/Passport/AlicenHonours/work/0909/alpha/kallisto_bustools_count/Count_analysis/filtered_counts/filtered_counts.mtx\"\n",
    "gene_index = \"/home/intel6700/../../media/intel6700/Passport/AlicenHonours/work/0909/alpha/kallisto_bustools_count/Count_analysis/filtered_counts/filtered_counts.genes.txt\"\n",
    "barcode_index = \"/home/intel6700/../../media/intel6700/Passport/AlicenHonours/work/0909/alpha/kallisto_bustools_count/Count_analysis/filtered_counts/filtered_counts.barcodes.txt\"\n",
    "output_directory = \"/home/intel6700/../../media/intel6700/Passport/AlicenHonours/work/0909/alpha/seurat_matrix\"\n",
    "t2g_file = \"/home/intel6700/../../media/intel6700/Passport/AlicenHonours/kallisto_index/0909version/corrected_t2g.tsv\"\n",
    "\n"
   ]
  },
  {
   "cell_type": "code",
   "execution_count": 15,
   "id": "b99a0dd7-f7d6-4800-bdc1-a858808c3333",
   "metadata": {},
   "outputs": [
    {
     "name": "stdout",
     "output_type": "stream",
     "text": [
      "CPU times: user 12.9 ms, sys: 7.58 ms, total: 20.5 ms\n",
      "Wall time: 4min 58s\n"
     ]
    }
   ],
   "source": [
    "%%time\n",
    "# 1. ALPHA\n",
    "# 1.4 Exectue the function : \n",
    "\n",
    "sascrip_functions.seurat_matrix(\n",
    "    matrix_file = matrix_file,\n",
    "    gene_index = gene_index,\n",
    "    barcode_index = barcode_index,\n",
    "    output_directory = output_directory, \n",
    "    t2g_file = t2g_file,\n",
    "    add_hgnc = True\n",
    ")\n"
   ]
  },
  {
   "cell_type": "code",
   "execution_count": 16,
   "id": "df2f3bbc-2d9e-4792-acec-18343d97e8a7",
   "metadata": {},
   "outputs": [],
   "source": [
    "# 2. LAMBDA\n",
    "# 2.1 Create variables for parameters to enter into the kallisto_bustools_count SASCRiP function : \n",
    "\n",
    "list_of_fastqs = \"/home/intel6700/../../media/intel6700/Passport/AlicenHonours/raw_files/fastq/human_blood_ifnlambda/human_blood_ifnlambda/\"\n",
    "single_cell_technology = \"10xv3\"\n",
    "output_directory_path = \"/home/intel6700/../../media/intel6700/Passport/AlicenHonours/work/0909/lambda/kallisto_bustools_count/\"\n",
    "output_directory_path = \"/home/intel6700/../../media/intel6700/Passport/AlicenHonours/work/0909/lambda/kallisto_bustools_count/\"\n",
    "species_index = \"/home/intel6700/../../media/intel6700/Passport/AlicenHonours/kallisto_index/0909version/index.idx\"\n",
    "species_t2g = \"/home/intel6700/../../media/intel6700/Passport/AlicenHonours/kallisto_index/0909version/corrected_t2g.tsv\"\n",
    "input_directory = True\n",
    "read_separator = [\"R1\", \"R2\"]\n"
   ]
  },
  {
   "cell_type": "code",
   "execution_count": 17,
   "id": "d10011a2-78c7-4f96-9efc-de18247d544e",
   "metadata": {},
   "outputs": [
    {
     "name": "stdout",
     "output_type": "stream",
     "text": [
      "CPU times: user 496 ms, sys: 261 ms, total: 757 ms\n",
      "Wall time: 17min 1s\n"
     ]
    },
    {
     "data": {
      "text/plain": [
       "{'transcript_to_genes': '/home/intel6700/../../media/intel6700/Passport/AlicenHonours/kallisto_index/0909version/corrected_t2g.tsv',\n",
       " 'ec_mapping_file': '/home/intel6700/../../media/intel6700/Passport/AlicenHonours/work/0909/lambda/kallisto_bustools_count/Count_analysis/matrix.ec'}"
      ]
     },
     "execution_count": 17,
     "metadata": {},
     "output_type": "execute_result"
    }
   ],
   "source": [
    "%%time\n",
    "# 2. LAMBDA\n",
    "# 2.2 Run kallisto_bustools_count : \n",
    "\n",
    "sascrip_functions.kallisto_bustools_count(\n",
    "    list_of_fastqs = list_of_fastqs, \n",
    "    single_cell_technology = single_cell_technology,\n",
    "    output_directory_path = output_directory_path,\n",
    "    species_index = species_index, \n",
    "    species_t2g = species_t2g, \n",
    "    input_directory = input_directory,\n",
    "    read_separator = read_separator \n",
    ")\n"
   ]
  },
  {
   "cell_type": "code",
   "execution_count": 18,
   "id": "f6cc21b5-49e7-46c0-9f33-19327c3b7fb1",
   "metadata": {},
   "outputs": [],
   "source": [
    "# 2. LAMBDA\n",
    "# 2.3 Create variables for parameters to enter into the seurat_matrix SASCRiP function : \n",
    "\n",
    "matrix_file = \"/home/intel6700/../../media/intel6700/Passport/AlicenHonours/work/0909/lambda/kallisto_bustools_count/Count_analysis/filtered_counts/filtered_counts.mtx\"\n",
    "gene_index = \"/home/intel6700/../../media/intel6700/Passport/AlicenHonours/work/0909/lambda/kallisto_bustools_count/Count_analysis/filtered_counts/filtered_counts.genes.txt\"\n",
    "barcode_index = \"/home/intel6700/../../media/intel6700/Passport/AlicenHonours/work/0909/lambda/kallisto_bustools_count/Count_analysis/filtered_counts/filtered_counts.barcodes.txt\"\n",
    "output_directory = \"/home/intel6700/../../media/intel6700/Passport/AlicenHonours/work/0909/lambda/seurat_matrix\"\n",
    "t2g_file = \"/home/intel6700/../../media/intel6700/Passport/AlicenHonours/kallisto_index/0909version/corrected_t2g.tsv\"\n"
   ]
  },
  {
   "cell_type": "code",
   "execution_count": 19,
   "id": "f06f0117-a989-4026-8e96-65bc1916092e",
   "metadata": {},
   "outputs": [
    {
     "name": "stdout",
     "output_type": "stream",
     "text": [
      "CPU times: user 13.7 ms, sys: 8.8 ms, total: 22.5 ms\n",
      "Wall time: 4min 59s\n"
     ]
    }
   ],
   "source": [
    "%%time\n",
    "# 2. LAMBDA\n",
    "# 2.4 Exectue the function : \n",
    "\n",
    "sascrip_functions.seurat_matrix(\n",
    "    matrix_file = matrix_file,\n",
    "    gene_index = gene_index,\n",
    "    barcode_index = barcode_index,\n",
    "    output_directory = output_directory, \n",
    "    t2g_file = t2g_file,\n",
    "    add_hgnc = True\n",
    ")\n"
   ]
  },
  {
   "cell_type": "code",
   "execution_count": 20,
   "id": "4440e481-14d8-4d9c-bcb0-c2c0423dcb3b",
   "metadata": {},
   "outputs": [],
   "source": [
    "# 3. UNTREATED\n",
    "# 3.1 Create variables for parameters to enter into the kallisto_bustools_count SASCRiP function : \n",
    "\n",
    "list_of_fastqs = \"/home/intel6700/../../media/intel6700/Passport/AlicenHonours/raw_files/fastq/human_blood_untreated/human_blood_untreated/\"\n",
    "single_cell_technology = \"10Xv3\"\n",
    "output_directory_path = \"/home/intel6700/../../media/intel6700/Passport/AlicenHonours/work/0909/untreated/kallisto_bustools_count/\"\n",
    "species_index = \"/home/intel6700/../../media/intel6700/Passport/AlicenHonours/kallisto_index/0909version/index.idx\"\n",
    "species_t2g = \"/home/intel6700/../../media/intel6700/Passport/AlicenHonours/kallisto_index/0909version/corrected_t2g.tsv\"\n",
    "input_directory = True\n",
    "read_separator = [\"R1\", \"R2\"]\n"
   ]
  },
  {
   "cell_type": "code",
   "execution_count": 21,
   "id": "983688cb-5be2-4998-b812-b245fdc0b2d2",
   "metadata": {},
   "outputs": [
    {
     "name": "stdout",
     "output_type": "stream",
     "text": [
      "CPU times: user 488 ms, sys: 231 ms, total: 719 ms\n",
      "Wall time: 13min 32s\n"
     ]
    },
    {
     "data": {
      "text/plain": [
       "{'transcript_to_genes': '/home/intel6700/../../media/intel6700/Passport/AlicenHonours/kallisto_index/0909version/corrected_t2g.tsv',\n",
       " 'ec_mapping_file': '/home/intel6700/../../media/intel6700/Passport/AlicenHonours/work/0909/untreated/kallisto_bustools_count/Count_analysis/matrix.ec'}"
      ]
     },
     "execution_count": 21,
     "metadata": {},
     "output_type": "execute_result"
    }
   ],
   "source": [
    "%%time \n",
    "# 3. UNTREATED\n",
    "# 3.2 Run kallisto_bustools_count : \n",
    "\n",
    "sascrip_functions.kallisto_bustools_count(\n",
    "    list_of_fastqs = list_of_fastqs, \n",
    "    single_cell_technology = single_cell_technology,\n",
    "    output_directory_path = output_directory_path,\n",
    "    species_index = species_index, \n",
    "    species_t2g = species_t2g, \n",
    "    input_directory = input_directory,\n",
    "    read_separator = read_separator \n",
    ")\n"
   ]
  },
  {
   "cell_type": "code",
   "execution_count": 22,
   "id": "f0ff6a97-046b-4646-92ac-296319b6e778",
   "metadata": {},
   "outputs": [],
   "source": [
    "# 3. UNTREATED\n",
    "# 3.3 Create variables for parameters to enter into the seurat_matrix SASCRiP function : \n",
    "\n",
    "matrix_file = \"/home/intel6700/../../media/intel6700/Passport/AlicenHonours/work/0909/untreated/kallisto_bustools_count/Count_analysis/filtered_counts/filtered_counts.mtx\"\n",
    "gene_index = \"/home/intel6700/../../media/intel6700/Passport/AlicenHonours/work/0909/untreated/kallisto_bustools_count/Count_analysis/filtered_counts/filtered_counts.genes.txt\"\n",
    "barcode_index = \"/home/intel6700/../../media/intel6700/Passport/AlicenHonours/work/0909/untreated/kallisto_bustools_count/Count_analysis/filtered_counts/filtered_counts.barcodes.txt\"\n",
    "output_directory = \"/home/intel6700/../../media/intel6700/Passport/AlicenHonours/work/0909/untreated/seurat_matrix\"\n",
    "t2g_file = \"/home/intel6700/../../media/intel6700/Passport/AlicenHonours/kallisto_index/0909version/corrected_t2g.tsv\"\n"
   ]
  },
  {
   "cell_type": "code",
   "execution_count": 23,
   "id": "beaf0f97-75fe-4f97-91fc-d48581463d5f",
   "metadata": {},
   "outputs": [
    {
     "name": "stdout",
     "output_type": "stream",
     "text": [
      "CPU times: user 15 ms, sys: 4.52 ms, total: 19.5 ms\n",
      "Wall time: 5min 4s\n"
     ]
    }
   ],
   "source": [
    "%%time\n",
    "# 3. UNTREATED\n",
    "# 3.4 Exectue the function : \n",
    "\n",
    "sascrip_functions.seurat_matrix(\n",
    "    matrix_file = matrix_file,\n",
    "    gene_index = gene_index,\n",
    "    barcode_index = barcode_index,\n",
    "    output_directory = output_directory, \n",
    "    t2g_file = t2g_file,\n",
    "    add_hgnc = True\n",
    ")\n",
    "\n"
   ]
  }
 ],
 "metadata": {
  "kernelspec": {
   "display_name": "Python 3 (ipykernel)",
   "language": "python",
   "name": "python3"
  },
  "language_info": {
   "codemirror_mode": {
    "name": "ipython",
    "version": 3
   },
   "file_extension": ".py",
   "mimetype": "text/x-python",
   "name": "python",
   "nbconvert_exporter": "python",
   "pygments_lexer": "ipython3",
   "version": "3.10.11"
  }
 },
 "nbformat": 4,
 "nbformat_minor": 5
}
