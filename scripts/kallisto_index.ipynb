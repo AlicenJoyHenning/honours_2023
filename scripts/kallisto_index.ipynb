{
 "cells": [
  {
   "cell_type": "code",
   "execution_count": 7,
   "id": "a2e3ba3a-01e9-45b1-aae2-9547f1b806ba",
   "metadata": {},
   "outputs": [],
   "source": [
    "import kb_python\n",
    "import re"
   ]
  },
  {
   "cell_type": "code",
   "execution_count": 8,
   "id": "c577548d-2b54-4fa6-97d3-625c12175bcc",
   "metadata": {},
   "outputs": [
    {
     "data": {
      "text/plain": [
       "['__builtins__',\n",
       " '__cached__',\n",
       " '__doc__',\n",
       " '__file__',\n",
       " '__loader__',\n",
       " '__name__',\n",
       " '__package__',\n",
       " '__path__',\n",
       " '__spec__',\n",
       " '__version__']"
      ]
     },
     "execution_count": 8,
     "metadata": {},
     "output_type": "execute_result"
    }
   ],
   "source": [
    "dir(kb_python)"
   ]
  },
  {
   "cell_type": "code",
   "execution_count": 10,
   "id": "ca1c007b-0e39-49ed-901c-b8fadc46ae1a",
   "metadata": {},
   "outputs": [
    {
     "ename": "AttributeError",
     "evalue": "module 'kb_python' has no attribute '__all__'",
     "output_type": "error",
     "traceback": [
      "\u001b[0;31m---------------------------------------------------------------------------\u001b[0m",
      "\u001b[0;31mAttributeError\u001b[0m                            Traceback (most recent call last)",
      "Cell \u001b[0;32mIn[10], line 1\u001b[0m\n\u001b[0;32m----> 1\u001b[0m \u001b[38;5;28mprint\u001b[39m(\u001b[43mkb_python\u001b[49m\u001b[38;5;241;43m.\u001b[39;49m\u001b[43m__all__\u001b[49m)\n",
      "\u001b[0;31mAttributeError\u001b[0m: module 'kb_python' has no attribute '__all__'"
     ]
    }
   ],
   "source": [
    "print(kb_python.__all__)"
   ]
  },
  {
   "cell_type": "code",
   "execution_count": 11,
   "id": "b44d33fc-25b2-49f6-8032-b6347ac54d87",
   "metadata": {},
   "outputs": [
    {
     "name": "stdout",
     "output_type": "stream",
     "text": [
      "Name: kb-python\n",
      "Version: 0.24.1\n",
      "Summary: Python wrapper around kallisto | bustools for scRNA-seq analysis\n",
      "Home-page: https://github.com/pachterlab/kb_python\n",
      "Author: Kyung Hoi (Joseph) Min\n",
      "Author-email: phoenixter96@gmail.com\n",
      "License: BSD\n",
      "Location: /home/intel6700/miniconda3/lib/python3.10/site-packages\n",
      "Requires: anndata, loompy\n",
      "Required-by: SASCRiP\n",
      "Note: you may need to restart the kernel to use updated packages.\n"
     ]
    }
   ],
   "source": [
    "pip show kb_python"
   ]
  },
  {
   "cell_type": "code",
   "execution_count": 12,
   "id": "564b4bba-4533-47ad-a9fe-97d21bd98787",
   "metadata": {},
   "outputs": [
    {
     "name": "stdout",
     "output_type": "stream",
     "text": [
      "['__builtins__', '__cached__', '__doc__', '__file__', '__loader__', '__name__', '__package__', '__path__', '__spec__', '__version__']\n"
     ]
    }
   ],
   "source": [
    "print(dir(kb_python))"
   ]
  },
  {
   "cell_type": "code",
   "execution_count": 15,
   "id": "fcefc211-1576-4a97-a154-a110da6aafde",
   "metadata": {},
   "outputs": [],
   "source": [
    "from kb_python import ref"
   ]
  },
  {
   "cell_type": "code",
   "execution_count": 16,
   "id": "5eca83d5-10f1-4dc4-a20e-9ab09f8e2983",
   "metadata": {},
   "outputs": [
    {
     "name": "stdout",
     "output_type": "stream",
     "text": [
      "['COMBINED_FILENAME', 'FASTA', 'GTF', 'SORTED_FASTA_FILENAME', 'SORTED_GTF_FILENAME', '__builtins__', '__cached__', '__doc__', '__file__', '__loader__', '__name__', '__package__', '__spec__', 'concatenate_files', 'create_t2c', 'create_t2g_from_fasta', 'create_t2g_from_gtf', 'download_reference', 'generate_cdna_fasta', 'generate_intron_fasta', 'get_kallisto_binary_path', 'kallisto_index', 'logger', 'logging', 'open_as_text', 'os', 'ref', 'ref_lamanno', 'run_executable', 'sort_fasta', 'sort_gtf', 'tarfile', 'urlretrieve']\n"
     ]
    }
   ],
   "source": [
    "print(dir(ref))"
   ]
  },
  {
   "cell_type": "code",
   "execution_count": null,
   "id": "3104d846-9e04-4edb-8016-359aaf6a4730",
   "metadata": {},
   "outputs": [],
   "source": [
    "ref.create_t2g_from_gtf("
   ]
  }
 ],
 "metadata": {
  "kernelspec": {
   "display_name": "Python 3 (ipykernel)",
   "language": "python",
   "name": "python3"
  },
  "language_info": {
   "codemirror_mode": {
    "name": "ipython",
    "version": 3
   },
   "file_extension": ".py",
   "mimetype": "text/x-python",
   "name": "python",
   "nbconvert_exporter": "python",
   "pygments_lexer": "ipython3",
   "version": "3.10.11"
  }
 },
 "nbformat": 4,
 "nbformat_minor": 5
}
