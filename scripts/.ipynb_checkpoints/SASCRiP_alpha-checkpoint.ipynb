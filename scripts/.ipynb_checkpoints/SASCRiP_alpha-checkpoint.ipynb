{
 "cells": [
  {
   "cell_type": "code",
   "execution_count": 20,
   "id": "bfc9eae6-a92e-40ef-b91a-5d3fbaf2e71e",
   "metadata": {},
   "outputs": [],
   "source": [
    "# Workflow for working with more than one set (R1 R2) of fastq files \n",
    "import SASCRiP \n",
    "import time\n",
    "from SASCRiP import sascrip_functions "
   ]
  },
  {
   "cell_type": "code",
   "execution_count": 23,
   "id": "3b230744-e07f-4630-b026-ff8384a81130",
   "metadata": {},
   "outputs": [
    {
     "data": {
      "text/plain": [
       "'/home/intel6700/Alicen/work_files'"
      ]
     },
     "execution_count": 23,
     "metadata": {},
     "output_type": "execute_result"
    }
   ],
   "source": [
    "pwd"
   ]
  },
  {
   "cell_type": "code",
   "execution_count": 2,
   "id": "156a9dc8-9da6-46b2-9b6e-19ad8d9f43ab",
   "metadata": {},
   "outputs": [
    {
     "name": "stdout",
     "output_type": "stream",
     "text": [
      "CPU times: user 441 ms, sys: 249 ms, total: 690 ms\n",
      "Wall time: 15min 15s\n"
     ]
    },
    {
     "data": {
      "text/plain": [
       "{'transcript_to_genes': 'Alicen/work_files/kallisto_index/darisia_transcripts_to_genes.txt',\n",
       " 'ec_mapping_file': 'Alicen/work_files/ifnalpha/kallisto_bustools_count/Count_analysis/matrix.ec'}"
      ]
     },
     "execution_count": 2,
     "metadata": {},
     "output_type": "execute_result"
    }
   ],
   "source": [
    "%%time\n",
    "# kallisto_bustools_count\n",
    "\n",
    "# Create variables for parameters : \n",
    "list_of_fastqs = \"Alicen/raw_files/fastq/human_blood_ifnalpha/\"\n",
    "single_cell_technology = \"10Xv3\"\n",
    "output_directory_path = \"Alicen/work_files/ifnalpha/kallisto_bustools_count/\"\n",
    "species_index = \"Alicen/work_files/kallisto_index/darisia_kallisto_index.idx\"\n",
    "species_t2g = \"Alicen/work_files/kallisto_index/darisia_transcripts_to_genes.txt\"\n",
    "input_directory = True\n",
    "read_separator = [\"R1\", \"R2\"]\n",
    "\n",
    "# execute the function : \n",
    "sascrip_functions.kallisto_bustools_count(\n",
    "    list_of_fastqs = list_of_fastqs, \n",
    "    single_cell_technology = single_cell_technology,\n",
    "    output_directory_path = output_directory_path,\n",
    "    species_index = species_index, \n",
    "    species_t2g = species_t2g, \n",
    "    input_directory = input_directory,\n",
    "    read_separator = read_separator \n",
    ")\n"
   ]
  },
  {
   "cell_type": "code",
   "execution_count": 3,
   "id": "8c036262-d06c-4353-b410-6cf7b920e54f",
   "metadata": {
    "scrolled": true
   },
   "outputs": [
    {
     "name": "stdout",
     "output_type": "stream",
     "text": [
      "CPU times: user 24.1 ms, sys: 9.51 ms, total: 33.6 ms\n",
      "Wall time: 4min 41s\n"
     ]
    }
   ],
   "source": [
    "%%time\n",
    "# seurat_matrix \n",
    "\n",
    "# Create variables for parameters : \n",
    "matrix_file = \"Alicen/work_files/ifnalpha/kallisto_bustools_count/Count_analysis/filtered_counts/filtered_counts.mtx\"\n",
    "gene_index = \"Alicen/work_files/ifnalpha/kallisto_bustools_count/Count_analysis/filtered_counts/filtered_counts.genes.txt\"\n",
    "barcode_index = \"Alicen/work_files/ifnalpha/kallisto_bustools_count/Count_analysis/filtered_counts/filtered_counts.barcodes.txt\"\n",
    "output_directory = \"Alicen/work_files/ifnalpha/seurat_matrix\"\n",
    "t2g_file = \"Alicen/work_files/kallisto_index/darisia_transcripts_to_genes.txt\"\n",
    "\n",
    "# execute the function : \n",
    "sascrip_functions.seurat_matrix(\n",
    "    matrix_file = matrix_file,\n",
    "    gene_index = gene_index,\n",
    "    barcode_index = barcode_index,\n",
    "    output_directory = output_directory, \n",
    "    t2g_file = t2g_file,\n",
    "    add_hgnc = True\n",
    ")\n"
   ]
  },
  {
   "cell_type": "code",
   "execution_count": 4,
   "id": "f79a0ffd-78d8-490a-bb25-76ad25c258cc",
   "metadata": {},
   "outputs": [
    {
     "name": "stdout",
     "output_type": "stream",
     "text": [
      "CPU times: user 3.14 ms, sys: 3.8 ms, total: 6.94 ms\n",
      "Wall time: 47.4 s\n"
     ]
    }
   ],
   "source": [
    "%%time\n",
    "# run_cqc \n",
    "\n",
    "# Create variables for parameters: \n",
    "input_file_or_folder = \"Alicen/work_files/ifnalpha/seurat_matrix\"\n",
    "sample_ID = \"ifnalpha\"\n",
    "output_directory_path = \"Alicen/work_files/ifnalpha/run_cqc\"\n",
    "gene_column = 2 \n",
    "\n",
    "# execute the function : \n",
    "sascrip_functions.run_cqc(\n",
    "    input_file_or_folder = input_file_or_folder,\n",
    "    sample_ID = sample_ID,\n",
    "    output_directory_path = output_directory_path,\n",
    "    gene_column = gene_column\n",
    ")\n"
   ]
  },
  {
   "cell_type": "code",
   "execution_count": 27,
   "id": "2521a44a-5f76-41b7-8617-19c449e026c8",
   "metadata": {},
   "outputs": [
    {
     "name": "stdout",
     "output_type": "stream",
     "text": [
      "CPU times: user 7.59 ms, sys: 5.85 ms, total: 13.4 ms\n",
      "Wall time: 2min 11s\n"
     ]
    }
   ],
   "source": [
    "%%time\n",
    "# sctransform_normalize \n",
    "\n",
    "# Create variables for parameters : \n",
    "seurat_object = \"Alicen/work_files/ifnalpha/run_cqc/ifnalpha_preQC_seurat.rds\"\n",
    "sample_ID = \"alpha_test\"\n",
    "output_directory_path = \"Alicen/work_files/ifnalpha/sctransform_normalize\"\n",
    "\n",
    "# Execute the function : \n",
    "sascrip_functions.sctransform_normalize(\n",
    "    seurat_object = seurat_object,\n",
    "    sample_ID = sample_ID,\n",
    "    output_directory_path = output_directory_path\n",
    ")\n",
    "\n",
    "    \n"
   ]
  }
 ],
 "metadata": {
  "kernelspec": {
   "display_name": "Python 3 (ipykernel)",
   "language": "python",
   "name": "python3"
  },
  "language_info": {
   "codemirror_mode": {
    "name": "ipython",
    "version": 3
   },
   "file_extension": ".py",
   "mimetype": "text/x-python",
   "name": "python",
   "nbconvert_exporter": "python",
   "pygments_lexer": "ipython3",
   "version": "3.10.9"
  }
 },
 "nbformat": 4,
 "nbformat_minor": 5
}
