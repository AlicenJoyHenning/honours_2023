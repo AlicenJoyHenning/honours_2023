{
 "cells": [
  {
   "cell_type": "code",
   "execution_count": 30,
   "id": "ca178a6b-0a67-4f67-b5e4-58f64275c51b",
   "metadata": {},
   "outputs": [
    {
     "name": "stdout",
     "output_type": "stream",
     "text": [
      "Requirement already satisfied: numpy in c:\\users\\alice\\anaconda3\\lib\\site-packages (1.24.3)\n",
      "Requirement already satisfied: matplotlib in c:\\users\\alice\\anaconda3\\lib\\site-packages (3.7.1)\n",
      "Requirement already satisfied: contourpy>=1.0.1 in c:\\users\\alice\\anaconda3\\lib\\site-packages (from matplotlib) (1.0.5)\n",
      "Requirement already satisfied: cycler>=0.10 in c:\\users\\alice\\anaconda3\\lib\\site-packages (from matplotlib) (0.11.0)\n",
      "Requirement already satisfied: fonttools>=4.22.0 in c:\\users\\alice\\anaconda3\\lib\\site-packages (from matplotlib) (4.25.0)\n",
      "Requirement already satisfied: kiwisolver>=1.0.1 in c:\\users\\alice\\anaconda3\\lib\\site-packages (from matplotlib) (1.4.4)\n",
      "Requirement already satisfied: numpy>=1.20 in c:\\users\\alice\\anaconda3\\lib\\site-packages (from matplotlib) (1.24.3)\n",
      "Requirement already satisfied: packaging>=20.0 in c:\\users\\alice\\anaconda3\\lib\\site-packages (from matplotlib) (23.0)\n",
      "Requirement already satisfied: pillow>=6.2.0 in c:\\users\\alice\\anaconda3\\lib\\site-packages (from matplotlib) (9.4.0)\n",
      "Requirement already satisfied: pyparsing>=2.3.1 in c:\\users\\alice\\anaconda3\\lib\\site-packages (from matplotlib) (3.0.9)\n",
      "Requirement already satisfied: python-dateutil>=2.7 in c:\\users\\alice\\anaconda3\\lib\\site-packages (from matplotlib) (2.8.2)\n",
      "Requirement already satisfied: six>=1.5 in c:\\users\\alice\\anaconda3\\lib\\site-packages (from python-dateutil>=2.7->matplotlib) (1.16.0)\n",
      "Requirement already satisfied: seaborn in c:\\users\\alice\\anaconda3\\lib\\site-packages (0.12.2)\n",
      "Requirement already satisfied: numpy!=1.24.0,>=1.17 in c:\\users\\alice\\anaconda3\\lib\\site-packages (from seaborn) (1.24.3)\n",
      "Requirement already satisfied: pandas>=0.25 in c:\\users\\alice\\anaconda3\\lib\\site-packages (from seaborn) (1.5.3)\n",
      "Requirement already satisfied: matplotlib!=3.6.1,>=3.1 in c:\\users\\alice\\anaconda3\\lib\\site-packages (from seaborn) (3.7.1)\n",
      "Requirement already satisfied: contourpy>=1.0.1 in c:\\users\\alice\\anaconda3\\lib\\site-packages (from matplotlib!=3.6.1,>=3.1->seaborn) (1.0.5)\n",
      "Requirement already satisfied: cycler>=0.10 in c:\\users\\alice\\anaconda3\\lib\\site-packages (from matplotlib!=3.6.1,>=3.1->seaborn) (0.11.0)\n",
      "Requirement already satisfied: fonttools>=4.22.0 in c:\\users\\alice\\anaconda3\\lib\\site-packages (from matplotlib!=3.6.1,>=3.1->seaborn) (4.25.0)\n",
      "Requirement already satisfied: kiwisolver>=1.0.1 in c:\\users\\alice\\anaconda3\\lib\\site-packages (from matplotlib!=3.6.1,>=3.1->seaborn) (1.4.4)\n",
      "Requirement already satisfied: packaging>=20.0 in c:\\users\\alice\\anaconda3\\lib\\site-packages (from matplotlib!=3.6.1,>=3.1->seaborn) (23.0)\n",
      "Requirement already satisfied: pillow>=6.2.0 in c:\\users\\alice\\anaconda3\\lib\\site-packages (from matplotlib!=3.6.1,>=3.1->seaborn) (9.4.0)\n",
      "Requirement already satisfied: pyparsing>=2.3.1 in c:\\users\\alice\\anaconda3\\lib\\site-packages (from matplotlib!=3.6.1,>=3.1->seaborn) (3.0.9)\n",
      "Requirement already satisfied: python-dateutil>=2.7 in c:\\users\\alice\\anaconda3\\lib\\site-packages (from matplotlib!=3.6.1,>=3.1->seaborn) (2.8.2)\n",
      "Requirement already satisfied: pytz>=2020.1 in c:\\users\\alice\\anaconda3\\lib\\site-packages (from pandas>=0.25->seaborn) (2022.7)\n",
      "Requirement already satisfied: six>=1.5 in c:\\users\\alice\\anaconda3\\lib\\site-packages (from python-dateutil>=2.7->matplotlib!=3.6.1,>=3.1->seaborn) (1.16.0)\n",
      "Requirement already satisfied: scikit-learn in c:\\users\\alice\\anaconda3\\lib\\site-packages (1.3.0)\n",
      "Requirement already satisfied: numpy>=1.17.3 in c:\\users\\alice\\anaconda3\\lib\\site-packages (from scikit-learn) (1.24.3)\n",
      "Requirement already satisfied: scipy>=1.5.0 in c:\\users\\alice\\anaconda3\\lib\\site-packages (from scikit-learn) (1.10.1)\n",
      "Requirement already satisfied: joblib>=1.1.1 in c:\\users\\alice\\anaconda3\\lib\\site-packages (from scikit-learn) (1.2.0)\n",
      "Requirement already satisfied: threadpoolctl>=2.0.0 in c:\\users\\alice\\anaconda3\\lib\\site-packages (from scikit-learn) (2.2.0)\n",
      "Requirement already satisfied: adjustText in c:\\users\\alice\\anaconda3\\lib\\site-packages (0.8)\n",
      "Requirement already satisfied: numpy in c:\\users\\alice\\anaconda3\\lib\\site-packages (from adjustText) (1.24.3)\n",
      "Requirement already satisfied: matplotlib in c:\\users\\alice\\anaconda3\\lib\\site-packages (from adjustText) (3.7.1)\n",
      "Requirement already satisfied: contourpy>=1.0.1 in c:\\users\\alice\\anaconda3\\lib\\site-packages (from matplotlib->adjustText) (1.0.5)\n",
      "Requirement already satisfied: cycler>=0.10 in c:\\users\\alice\\anaconda3\\lib\\site-packages (from matplotlib->adjustText) (0.11.0)\n",
      "Requirement already satisfied: fonttools>=4.22.0 in c:\\users\\alice\\anaconda3\\lib\\site-packages (from matplotlib->adjustText) (4.25.0)\n",
      "Requirement already satisfied: kiwisolver>=1.0.1 in c:\\users\\alice\\anaconda3\\lib\\site-packages (from matplotlib->adjustText) (1.4.4)\n",
      "Requirement already satisfied: packaging>=20.0 in c:\\users\\alice\\anaconda3\\lib\\site-packages (from matplotlib->adjustText) (23.0)\n",
      "Requirement already satisfied: pillow>=6.2.0 in c:\\users\\alice\\anaconda3\\lib\\site-packages (from matplotlib->adjustText) (9.4.0)\n",
      "Requirement already satisfied: pyparsing>=2.3.1 in c:\\users\\alice\\anaconda3\\lib\\site-packages (from matplotlib->adjustText) (3.0.9)\n",
      "Requirement already satisfied: python-dateutil>=2.7 in c:\\users\\alice\\anaconda3\\lib\\site-packages (from matplotlib->adjustText) (2.8.2)\n",
      "Requirement already satisfied: six>=1.5 in c:\\users\\alice\\anaconda3\\lib\\site-packages (from python-dateutil>=2.7->matplotlib->adjustText) (1.16.0)\n"
     ]
    }
   ],
   "source": [
    "# Installing the GOFigure dependencies \n",
    "\n",
    "!pip install numpy\n",
    "!pip install matplotlib\n",
    "!pip install seaborn\n",
    "!pip install scikit-learn\n",
    "!pip install adjustText\n",
    "\n",
    "# sdependencies for colour palette generating : \n",
    "\n",
    "import matplotlib.pyplot as plt\n",
    "from matplotlib.colors import LinearSegmentedColormap"
   ]
  },
  {
   "cell_type": "code",
   "execution_count": 4,
   "id": "a3d8d650-679b-40ca-ba13-c515d192b5f5",
   "metadata": {
    "tags": []
   },
   "outputs": [
    {
     "data": {
      "text/plain": [
       "'C:\\\\Users\\\\alice'"
      ]
     },
     "execution_count": 4,
     "metadata": {},
     "output_type": "execute_result"
    }
   ],
   "source": [
    "pwd"
   ]
  },
  {
   "cell_type": "code",
   "execution_count": 8,
   "id": "d163e7ae-d5e2-437b-9223-d5c88fc1f50f",
   "metadata": {
    "tags": []
   },
   "outputs": [
    {
     "name": "stdout",
     "output_type": "stream",
     "text": [
      "C:\\Users\\alice\\GO-Figure\n"
     ]
    }
   ],
   "source": [
    "cd GO-Figure"
   ]
  },
  {
   "cell_type": "code",
   "execution_count": 14,
   "id": "02b6d461-d16c-4c02-a1e2-cf67853f2107",
   "metadata": {
    "tags": []
   },
   "outputs": [
    {
     "name": "stdout",
     "output_type": "stream",
     "text": [
      "usage: gofigure.py [-h] -i INPUT -o OUTPUT [-a MAX_CLUSTERS]\n",
      "                   [-j {topgo,gostats,standard,standard-plus}]\n",
      "                   [-n {bpo,mfo,cco,all}] [-r REPRESENTATIVES]\n",
      "                   [-si SIMILARITY_CUTOFF] [-v MAX_PVALUE]\n",
      "                   [-so {pval,user,user-descending}] [-su {True,False}]\n",
      "                   [-to TOP_LEVEL] [-nc NAME_CHANGES] [-b OPACITY]\n",
      "                   [-c {pval,log10-pval,user,members,frequency,unique}]\n",
      "                   [-p PALETTE] [-rs RANDOM_STATE] [-s SIZE]\n",
      "                   [-sr {small,medium,big}]\n",
      "                   [-u {numbered,go,go-arrows,description,description-numbered}]\n",
      "                   [-x XLABEL] [-y YLABEL] [-z COLOUR_LABEL]\n",
      "                   [-d {left,right,center}] [-e DESCRIPTION_LIMIT]\n",
      "                   [-f {xx-small,x-small,small,medium,large,x-large,xx-large}]\n",
      "                   [-g {single,double,triple}] [-l {full,go,description,none}]\n",
      "                   [-m MAX_LABEL] [-dp DPI] [-q {png,pdf,tiff,svg}]\n",
      "                   [-w OUTFILE_APPENDIX]\n",
      "                   [-k {xx-small,x-small,small,medium,large,x-large,xx-large}]\n",
      "                   [-t TITLE]\n",
      "\n",
      "GOFigure!: GO enrichment visualization based on semantic similarity.\n",
      "\n",
      "options:\n",
      "  -h, --help            show this help message and exit\n",
      "\n",
      "Required arguments:\n",
      "  -i INPUT, --input INPUT\n",
      "                        Input file in tabular format with the columns: GO ID +\n",
      "                        P-value for standard input, GO ID + P-Value +\n",
      "                        Significant for standard-plus input, TopGO output as\n",
      "                        an input, or GoStats output as an input. Can use # or\n",
      "                        ! or % to comment out lines. Change --input_type\n",
      "                        accordingly. Default input is 'standard'. Example\n",
      "                        input files are found in the root directory.\n",
      "  -o OUTPUT, --output OUTPUT\n",
      "                        Output directory\n",
      "\n",
      "Optional input file and data handling arguments:\n",
      "  -a MAX_CLUSTERS, --max_clusters MAX_CLUSTERS\n",
      "                        Maximum amount of clusters to plot (integer value).\n",
      "                        Default = 50.\n",
      "  -j {topgo,gostats,standard,standard-plus}, --input_type {topgo,gostats,standard,standard-plus}\n",
      "                        Type of input file. Use 'topgo' for standard TopGO\n",
      "                        input, 'gostats' for standard GOStats input,\n",
      "                        'standard' for an input file where the first column is\n",
      "                        the GO ID and the second is the p-value, and\n",
      "                        'standard-plus' for standard input but with a third\n",
      "                        column containing a user defined numerical value (for\n",
      "                        TopGO and GOStats input, this is the 'significant'\n",
      "                        value). Default = standard\n",
      "  -n {bpo,mfo,cco,all}, --ontology {bpo,mfo,cco,all}\n",
      "                        Which ontology to use: biological process ('bpo'),\n",
      "                        molecular function ('mfo'), cellular component\n",
      "                        ('cco'), or all ontologies ('all'). Default is all.\n",
      "  -r REPRESENTATIVES, --representatives REPRESENTATIVES\n",
      "                        A list of GO terms that have priority for being a\n",
      "                        representative of a cluster. I.e. if one term in a\n",
      "                        cluster has priority, that term will always be the\n",
      "                        representative. If two terms in a cluster have\n",
      "                        priority, only those two will be considered. Input is\n",
      "                        a list of GO terms separated by a comma, such as\n",
      "                        'GO:0000001,GO:0000002'.\n",
      "  -si SIMILARITY_CUTOFF, --similarity_cutoff SIMILARITY_CUTOFF\n",
      "                        Similarity cutoff to be used between GO terms, a value\n",
      "                        between 0 and 1. Default = 0.5.\n",
      "  -v MAX_PVALUE, --max_pvalue MAX_PVALUE\n",
      "                        Maximum p-value to consider (floating value). Default\n",
      "                        = 99999.99999.\n",
      "  -so {pval,user,user-descending}, --sort_by {pval,user,user-descending}\n",
      "                        Which values to use for sorting the clusters: 'pval'\n",
      "                        (p-value) or 'user' (user-defined value) or 'user-\n",
      "                        descending' (user-defined value descending). Default =\n",
      "                        pval.\n",
      "  -su {True,False}, --sum_user {True,False}\n",
      "                        To sum the user-defined values (column 3) for each\n",
      "                        member of a cluster. Either 'True' or 'False'. Default\n",
      "                        = False.\n",
      "  -to TOP_LEVEL, --top_level TOP_LEVEL\n",
      "                        Set top level GO terms for clusters as given by the GO\n",
      "                        DAG (see https://www.ebi.ac.uk/QuickGO). Top level GO\n",
      "                        terms have to be given separated by comma's, without\n",
      "                        spaces. E.g.: 'GO:000001,GO:000008'.\n",
      "  -nc NAME_CHANGES, --name_changes NAME_CHANGES\n",
      "                        A list of GO terms that will be used as representative\n",
      "                        of a cluster specifically for naming purposes, but not\n",
      "                        for internal calculations. This is opposed to the'--\n",
      "                        representatives option, which provides GO terms to be\n",
      "                        used as representatives of a cluster both internally\n",
      "                        and externally. This specific option allows for the\n",
      "                        renaming of clusters without recalculating the\n",
      "                        clusters when there is a need to reproduce the\n",
      "                        original figure. Input is a list of GO terms separated\n",
      "                        by a comma, such as 'GO:0000001,GO:0000002'.\n",
      "\n",
      "Optional legend arguments:\n",
      "  -d {left,right,center}, --legend_position {left,right,center}\n",
      "                        Position the legend at the bottom left ('left'),\n",
      "                        bottom right ('right'), or bottom center ('center').\n",
      "                        Default = center.\n",
      "  -e DESCRIPTION_LIMIT, --description_limit DESCRIPTION_LIMIT\n",
      "                        Integer character limit of GO term descriptions in the\n",
      "                        legend. Default = 35.\n",
      "  -f {xx-small,x-small,small,medium,large,x-large,xx-large}, --font_size {xx-small,x-small,small,medium,large,x-large,xx-large}\n",
      "                        Font size of the legend. 'xx-small', 'x-small',\n",
      "                        'small', 'medium', 'large' , 'x-large', or 'xx-large'.\n",
      "                        Default = medium\n",
      "  -g {single,double,triple}, --legend_columns {single,double,triple}\n",
      "                        Legend as a single ('single') column or double\n",
      "                        ('double') column. Default = double.\n",
      "  -l {full,go,description,none}, --legend {full,go,description,none}\n",
      "                        Option to show GO terms and descriptions in the legend\n",
      "                        ('full'), GO term only 'go', description only\n",
      "                        ('description'), or no legend ('none'). Default =\n",
      "                        description.\n",
      "  -m MAX_LABEL, --max_label MAX_LABEL\n",
      "                        Maximum labels to display in the legend. Default = 10.\n",
      "\n",
      "Optional scatterplot arguments:\n",
      "  -b OPACITY, --opacity OPACITY\n",
      "                        Set opacity for the clusters, floating point from 0 to\n",
      "                        1. Default = 1\n",
      "  -c {pval,log10-pval,user,members,frequency,unique}, --colours {pval,log10-pval,user,members,frequency,unique}\n",
      "                        Color GO clusters based on p-value ('pval'), log10\n",
      "                        p-value ('log10-pval'), number of GO terms that are a\n",
      "                        member of the cluster ('members'), frequency of the GO\n",
      "                        term in the GOA database ('frequency'), a unique\n",
      "                        colour per cluster ('unique'), or a user defined value\n",
      "                        ('user'). Default = 'log10-pval'.\n",
      "  -p PALETTE, --palette PALETTE\n",
      "                        Set to any color brewer palette available for\n",
      "                        MatPlotLib (https://matplotlib.org/3.1.1/tutorials/col\n",
      "                        ors/colormaps.html). Default = plasma\n",
      "  -rs RANDOM_STATE, --random_state RANDOM_STATE\n",
      "                        Set random state for the calculation of the X and Y\n",
      "                        label. Useful if you want the figures to be exactly\n",
      "                        the same. Needs to be an integer or None. Specifying\n",
      "                        'None' will create a different orientation of the plot\n",
      "                        every time. Default = 1\n",
      "  -s SIZE, --size SIZE  Size of GO clusters based on how many GO terms are a\n",
      "                        member of the cluster ('members'), frequency in GOA\n",
      "                        database ('frequency'), p-value where smaller = larger\n",
      "                        size ('pval'), the user defined value ('user'), or a\n",
      "                        fixed integer for every cluster. Default = 'members'.\n",
      "  -sr {small,medium,big}, --size_range {small,medium,big}\n",
      "                        Set cluster size range to 'small', 'medium', or 'big'.\n",
      "                        Default = medium.\n",
      "  -u {numbered,go,go-arrows,description,description-numbered}, --cluster_labels {numbered,go,go-arrows,description,description-numbered}\n",
      "                        Label clusters numbered based on the sorting option\n",
      "                        ('numbered'), based on the representative GO term\n",
      "                        ('go'), based on the representative GO term with\n",
      "                        arrows ('go-arrows') based on the representative GO\n",
      "                        term name ('description'), or based on the\n",
      "                        representative GO term name with arrows ('description-\n",
      "                        numbered'). Default = numbered.\n",
      "  -x XLABEL, --xlabel XLABEL\n",
      "                        X-axis label. Default = 'Semantic space X'\n",
      "  -y YLABEL, --ylabel YLABEL\n",
      "                        Y-axis label. Default = 'Semantic space Y'\n",
      "  -z COLOUR_LABEL, --colour_label COLOUR_LABEL\n",
      "                        Colourbar label. Default is the description of the\n",
      "                        input used for --colours\n",
      "\n",
      "Optional title arguments:\n",
      "  -k {xx-small,x-small,small,medium,large,x-large,xx-large}, --title_size {xx-small,x-small,small,medium,large,x-large,xx-large}\n",
      "                        Set title size. 'xx-small', 'x-small', 'small',\n",
      "                        'medium', 'large' , 'x-large', or 'xx-large'. Default\n",
      "                        = medium\n",
      "  -t TITLE, --title TITLE\n",
      "                        Set figure title. Has to be between single or double\n",
      "                        quotation marks.\n",
      "\n",
      "Optional outfile arguments:\n",
      "  -dp DPI, --dpi DPI    Set DPI for outfiles. Default = 400\n",
      "  -q {png,pdf,tiff,svg}, --file_type {png,pdf,tiff,svg}\n",
      "                        Image file type. 'png', 'pdf', 'svg', or 'tiff'.\n",
      "                        Default = 'png'\n",
      "  -w OUTFILE_APPENDIX, --outfile_appendix OUTFILE_APPENDIX\n",
      "                        What to add to the outfiles after\n",
      "                        'biological_process', 'molecular_function', or\n",
      "                        'cellular_component'. By default it will add the value\n",
      "                        given for --outdir, replacing '/' with '_'.\n"
     ]
    }
   ],
   "source": [
    "# Running GOFigure \n",
    "\n",
    "!python gofigure.py --help"
   ]
  },
  {
   "cell_type": "code",
   "execution_count": 31,
   "id": "110a7dff-15b7-4640-b4e9-258b242eca8e",
   "metadata": {
    "tags": []
   },
   "outputs": [],
   "source": [
    "# Making colour palette for entry into GOFigure : \n",
    "# Defining the two endpoint colours\n",
    "colour1 = \"#6ab5ba\" # trueblue\n",
    "colour2 = \"#d3d3d3\" # lightgrey \n",
    "\n",
    "# Create a custom colormap with a smooth gradient between the two colors : \n",
    "colours = [colour1, colour2]\n",
    "custom_cmap = LinearSegmentedColormap.from_list(\"custom_palette\", colours, N=256)\n"
   ]
  },
  {
   "cell_type": "code",
   "execution_count": 34,
   "id": "bb5f2812-58d4-442f-af19-bac3a153b93f",
   "metadata": {
    "tags": []
   },
   "outputs": [],
   "source": [
    "import json\n",
    "\n",
    "# Define the JSON data\n",
    "json_data = {\n",
    "    \"name\": \"custom_cmap\",\n",
    "    \"type\": \"linear\",\n",
    "    \"segmentdata\": {\n",
    "        \"red\": [\n",
    "            (0.0, 0.4157, 0.4157),\n",
    "            (1.0, 0.8275, 0.8275)\n",
    "        ],\n",
    "        \"green\": [\n",
    "            (0.0, 0.7098, 0.7098),\n",
    "            (1.0, 0.8275, 0.8275)\n",
    "        ],\n",
    "        \"blue\": [\n",
    "            (0.0, 0.7294, 0.7294),\n",
    "            (1.0, 0.8275, 0.8275)\n",
    "        ]\n",
    "    }\n",
    "}\n",
    "\n",
    "# Convert the Python data to a JSON-formatted string with indentation\n",
    "json_str = json.dumps(json_data, indent=4)\n",
    "\n",
    "# Save JSON data to a file\n",
    "with open(\"output.json\", \"w\") as json_file:\n",
    "    json_file.write(json_str)\n",
    "\n",
    "\n",
    "\n"
   ]
  },
  {
   "cell_type": "code",
   "execution_count": 42,
   "id": "a429cd2e-cae4-49e4-b861-7a839d2308aa",
   "metadata": {
    "tags": []
   },
   "outputs": [
    {
     "name": "stderr",
     "output_type": "stream",
     "text": [
      "Starting calculations\n",
      "\n",
      "Calculating biological process\n",
      "Output for biological processfound in: FortopGO/results/M2_lambda_results/biological_process_FortopGO_results_M2_lambda_results.png\n",
      "Finished!\n"
     ]
    }
   ],
   "source": [
    "!python gofigure.py -i \"FortopGO/M2_lambda_list.tsv\" -o \"FortopGO/results/M2_lambda_results\" -n bpo -a 20 -e 75 -m 20 -p viridis -g single -t \"Neutrophils\" "
   ]
  },
  {
   "cell_type": "code",
   "execution_count": null,
   "id": "8809307a-e918-44a9-90d0-5fccd13ad205",
   "metadata": {},
   "outputs": [],
   "source": []
  }
 ],
 "metadata": {
  "kernelspec": {
   "display_name": "Python 3 (ipykernel)",
   "language": "python",
   "name": "python3"
  },
  "language_info": {
   "codemirror_mode": {
    "name": "ipython",
    "version": 3
   },
   "file_extension": ".py",
   "mimetype": "text/x-python",
   "name": "python",
   "nbconvert_exporter": "python",
   "pygments_lexer": "ipython3",
   "version": "3.11.4"
  }
 },
 "nbformat": 4,
 "nbformat_minor": 5
}
