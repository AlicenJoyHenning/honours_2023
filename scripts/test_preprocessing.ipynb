{
 "cells": [
  {
   "cell_type": "code",
   "execution_count": 1,
   "id": "32494961-f210-475f-b36e-b2e8e2261214",
   "metadata": {},
   "outputs": [],
   "source": [
    "import SASCRiP"
   ]
  },
  {
   "cell_type": "code",
   "execution_count": 2,
   "id": "4668e8a2-773d-4030-8ab2-ac0aa860dfa1",
   "metadata": {},
   "outputs": [],
   "source": [
    "from SASCRiP import sascrip_functions"
   ]
  },
  {
   "cell_type": "code",
   "execution_count": 3,
   "id": "6d457d9a-4410-4190-aeec-b7895d61d82a",
   "metadata": {},
   "outputs": [
    {
     "name": "stdout",
     "output_type": "stream",
     "text": [
      "Error in contrib.url(repos, type) : \n",
      "  trying to use CRAN without setting a mirror\n",
      "Calls: install.packages -> startsWith -> contrib.url\n",
      "Execution halted\n",
      "\n"
     ]
    }
   ],
   "source": [
    "sascrip_functions.install_R_packages()"
   ]
  },
  {
   "cell_type": "code",
   "execution_count": 4,
   "id": "d923ba51-6c0a-4a43-bfac-79e56dfc0d38",
   "metadata": {},
   "outputs": [
    {
     "name": "stdout",
     "output_type": "stream",
     "text": [
      "Error in contrib.url(repos, type) : \n",
      "  trying to use CRAN without setting a mirror\n",
      "Calls: install.packages -> startsWith -> contrib.url\n",
      "Execution halted\n",
      "\n"
     ]
    }
   ],
   "source": [
    "sascrip_functions.install_R_packages()"
   ]
  },
  {
   "cell_type": "code",
   "execution_count": 5,
   "id": "a690997e-53aa-4bbc-b749-d3613aaee7ff",
   "metadata": {},
   "outputs": [],
   "source": [
    "import os "
   ]
  },
  {
   "cell_type": "code",
   "execution_count": 6,
   "id": "6dad3915-8772-42d9-910d-644504be04d0",
   "metadata": {},
   "outputs": [
    {
     "data": {
      "text/plain": [
       "['bamtofastq_S1_L007_I1_003.fastq.gz',\n",
       " 'bamtofastq_S1_L007_R2_002.fastq.gz',\n",
       " 'bamtofastq_S1_L007_I1_007.fastq.gz',\n",
       " 'bamtofastq_S1_L007_I1_001.fastq.gz',\n",
       " 'bamtofastq_S1_L007_R2_006.fastq.gz',\n",
       " 'bamtofastq_S1_L007_R1_005.fastq.gz',\n",
       " 'bamtofastq_S1_L007_I1_002.fastq.gz',\n",
       " 'bamtofastq_S1_L007_R1_007.fastq.gz',\n",
       " 'bamtofastq_S1_L007_R1_006.fastq.gz',\n",
       " 'bamtofastq_S1_L007_I1_006.fastq.gz',\n",
       " 'bamtofastq_S1_L007_I1_004.fastq.gz',\n",
       " 'bamtofastq_S1_L007_R1_003.fastq.gz',\n",
       " 'bamtofastq_S1_L007_R2_005.fastq.gz',\n",
       " 'bamtofastq_S1_L007_R1_001.fastq.gz',\n",
       " 'bamtofastq_S1_L007_R2_007.fastq.gz',\n",
       " 'bamtofastq_S1_L007_R1_002.fastq.gz',\n",
       " 'bamtofastq_S1_L007_R1_004.fastq.gz',\n",
       " 'bamtofastq_S1_L007_R2_001.fastq.gz',\n",
       " 'bamtofastq_S1_L007_R2_003.fastq.gz',\n",
       " 'bamtofastq_S1_L007_I1_005.fastq.gz',\n",
       " 'bamtofastq_S1_L007_R2_004.fastq.gz']"
      ]
     },
     "execution_count": 6,
     "metadata": {},
     "output_type": "execute_result"
    }
   ],
   "source": [
    "os.listdir(\"Alicen/raw_files/my_fastq_files/human_blood_ifnalpha/\")"
   ]
  },
  {
   "cell_type": "code",
   "execution_count": null,
   "id": "a14a9335-6764-47c8-b752-b8b4defb51ce",
   "metadata": {},
   "outputs": [],
   "source": [
    "sascrip_functions.kallisto_bustools_count(\n",
    "    \"Alicen/raw_files/my_fastq_files/human_blood_ifnalpha/\""
   ]
  },
  {
   "cell_type": "code",
   "execution_count": 7,
   "id": "c4eb1487-3dcb-404c-b2a1-be2ec1bd9961",
   "metadata": {},
   "outputs": [],
   "source": [
    "# set parameters \n",
    "list_of_fastqs = [\n",
    "    \"Alicen/raw_files/my_fastq_files/human_blood_ifnalpha/bamtofastq_S1_L007_R1_001.fastq.gz\", \n",
    "    \"Alicen/raw_files/my_fastq_files/human_blood_ifnalpha/bamtofastq_S1_L007_R2_001.fastq.gz\"\n",
    "]\n",
    "single_cell_technology = \"10Xv3\"\n",
    "output_directory_path = \"Alicen/test_files\"\n",
    "species_index = \"Alicen/kallisto_index.idx\"\n",
    "species_t2g = \"Alicen/transcripts_to_genes.txt\"\n"
   ]
  },
  {
   "cell_type": "code",
   "execution_count": 8,
   "id": "72ab4599-6351-4cd6-84cb-81511a95dc73",
   "metadata": {},
   "outputs": [
    {
     "data": {
      "text/plain": [
       "{'transcript_to_genes': 'Alicen/transcripts_to_genes.txt',\n",
       " 'ec_mapping_file': 'Alicen/test_files/Count_analysis/matrix.ec'}"
      ]
     },
     "execution_count": 8,
     "metadata": {},
     "output_type": "execute_result"
    }
   ],
   "source": [
    "sascrip_functions.kallisto_bustools_count(\n",
    "    list_of_fastqs = list_of_fastqs,\n",
    "    single_cell_technology = single_cell_technology,\n",
    "    output_directory_path = output_directory_path, \n",
    "    species_index = species_index,\n",
    "    species_t2g = species_t2g\n",
    ")                                        "
   ]
  },
  {
   "cell_type": "code",
   "execution_count": null,
   "id": "69ca02da-ca2b-43ef-ad50-393d6a996d52",
   "metadata": {},
   "outputs": [],
   "source": [
    "# include_ERCC_bus_count includes it so you can quantify "
   ]
  },
  {
   "cell_type": "code",
   "execution_count": 7,
   "id": "a308d402-1899-4ddb-b9a9-473ce6a25f5e",
   "metadata": {},
   "outputs": [],
   "source": [
    "# seurat_matrix \n",
    "\n",
    "matrix_file = \"Alicen/test_files/Count_analysis/filtered_counts/filtered_counts.mtx\"\n",
    "gene_index = \"Alicen/test_files/Count_analysis/filtered_counts/filtered_counts.genes.txt\"\n",
    "barcode_index = \"Alicen/test_files/Count_analysis/filtered_counts/filtered_counts.barcodes.txt\"\n",
    "output_directory = \"Alicen/test_files/Count_analysis/filtered_counts\"\n",
    "t2g_file = \"Alicen/test_files/Count_analysis/filtered_counts/transcripts_to_genes.txt\"\n",
    "\n"
   ]
  },
  {
   "cell_type": "code",
   "execution_count": 9,
   "id": "012b3f09-0d4d-4cb1-b5e6-97f7a00f1e13",
   "metadata": {},
   "outputs": [],
   "source": [
    "sascrip_functions.seurat_matrix(\n",
    "    matrix_file = matrix_file,\n",
    "    gene_index = gene_index,\n",
    "    barcode_index = barcode_index,\n",
    "    output_directory = output_directory, \n",
    "    t2g_file = t2g_file, \n",
    "    add_hgnc = True\n",
    ")\n",
    "\n",
    "    "
   ]
  },
  {
   "cell_type": "code",
   "execution_count": 3,
   "id": "87cbbb18-d198-41b8-9e53-11b281f03727",
   "metadata": {},
   "outputs": [],
   "source": [
    "# run cqc \n",
    "# start with a folder\n",
    "\n",
    "input_file_or_folder = \"Alicen/test_files/Count_analysis/filtered_counts/seurat_matrix_output/\"\n",
    "sample_ID = \"alpha_test\"\n",
    "output_directory_path = \"Alicen/test_files/run_cqc_output/\"\n",
    "gene_column = 2"
   ]
  },
  {
   "cell_type": "code",
   "execution_count": 4,
   "id": "1c8027bd-7591-4f44-a96d-ccd1891a6da8",
   "metadata": {},
   "outputs": [],
   "source": [
    "sascrip_functions.run_cqc(\n",
    "    input_file_or_folder = input_file_or_folder,\n",
    "    sample_ID = sample_ID,\n",
    "    output_directory_path = output_directory_path,\n",
    "    gene_column = gene_column\n",
    ")"
   ]
  },
  {
   "cell_type": "code",
   "execution_count": 5,
   "id": "710796a0-c1cc-4082-af6d-04ffa872b238",
   "metadata": {},
   "outputs": [],
   "source": [
    "# sctransform_normalize \n",
    "\n",
    "seurat_object = \"Alicen/test_files/run_cqc_output/alpha_test_preQC_seurat.rds\"\n",
    "sample_ID = \"alpha_test\"\n",
    "output_directory_path = \"Alicen/test_files/sctransform_normalize_ouput/\"\n",
    "\n",
    "\n"
   ]
  },
  {
   "cell_type": "code",
   "execution_count": 6,
   "id": "3a18b8f8-48da-4dbf-a0b3-62a5bc8e9610",
   "metadata": {},
   "outputs": [],
   "source": [
    "sascrip_functions.sctransform_normalize(\n",
    "    seurat_object = seurat_object,\n",
    "    sample_ID = sample_ID,\n",
    "    output_directory_path = output_directory_path, \n",
    ")\n",
    "    "
   ]
  },
  {
   "cell_type": "code",
   "execution_count": null,
   "id": "49730491-acc2-41b4-b699-26b2832f0b19",
   "metadata": {},
   "outputs": [],
   "source": []
  }
 ],
 "metadata": {
  "kernelspec": {
   "display_name": "Python 3 (ipykernel)",
   "language": "python",
   "name": "python3"
  },
  "language_info": {
   "codemirror_mode": {
    "name": "ipython",
    "version": 3
   },
   "file_extension": ".py",
   "mimetype": "text/x-python",
   "name": "python",
   "nbconvert_exporter": "python",
   "pygments_lexer": "ipython3",
   "version": "3.10.11"
  }
 },
 "nbformat": 4,
 "nbformat_minor": 5
}
