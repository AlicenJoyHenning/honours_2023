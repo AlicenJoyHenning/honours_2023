{
 "cells": [
  {
   "cell_type": "code",
   "execution_count": 1,
   "id": "a1a27fb3-fc5c-492e-b725-96b146cb7499",
   "metadata": {
    "tags": []
   },
   "outputs": [],
   "source": [
    "# Import dependencies : \n",
    "\n",
    "import kb_python\n",
    "from kb_python import ref\n"
   ]
  },
  {
   "cell_type": "code",
   "execution_count": 12,
   "id": "003faf96-1377-40e0-ae32-b6a37ba9f1c5",
   "metadata": {
    "tags": []
   },
   "outputs": [
    {
     "name": "stdout",
     "output_type": "stream",
     "text": [
      "C:\\Users\\alice\n"
     ]
    }
   ],
   "source": [
    "cd"
   ]
  },
  {
   "cell_type": "code",
   "execution_count": 3,
   "id": "c8db659f-8622-48fc-a66f-93fcf6c1abad",
   "metadata": {
    "tags": []
   },
   "outputs": [
    {
     "name": "stdout",
     "output_type": "stream",
     "text": [
      "['COMBINED_FILENAME', 'FASTA', 'GTF', 'SORTED_FASTA_FILENAME', 'SORTED_GTF_FILENAME', '__builtins__', '__cached__', '__doc__', '__file__', '__loader__', '__name__', '__package__', '__spec__', 'concatenate_files', 'create_t2c', 'create_t2g_from_fasta', 'create_t2g_from_gtf', 'download_reference', 'generate_cdna_fasta', 'generate_intron_fasta', 'get_kallisto_binary_path', 'kallisto_index', 'logger', 'logging', 'open_as_text', 'os', 'ref', 'ref_lamanno', 'run_executable', 'sort_fasta', 'sort_gtf', 'tarfile', 'urlretrieve']\n"
     ]
    }
   ],
   "source": [
    "# View the available functions : (looking for create_t2g ... )\n",
    "\n",
    "print(dir(ref))\n"
   ]
  },
  {
   "cell_type": "code",
   "execution_count": 9,
   "id": "f67b3870-7e21-43c0-9b85-7bfe8bcd3996",
   "metadata": {
    "tags": []
   },
   "outputs": [],
   "source": [
    "# Define variables  :\n",
    "\n",
    "path_to_gtf = \"D:/AlicenHonours/kallisto_index/01.09.version/Homo_sapiens.GRCh38.110.gtf.gz\"\n",
    "path_to_output = \"D:/AlicenHonours/kallisto_index/01.09.version/transcripts_to_genes_introns_true.txt\"\n"
   ]
  },
  {
   "cell_type": "code",
   "execution_count": 10,
   "id": "3b38a8c8-fd28-481b-b4c5-8a47c7350fa8",
   "metadata": {
    "tags": []
   },
   "outputs": [
    {
     "data": {
      "text/plain": [
       "{'t2g': 'D:/AlicenHonours/kallisto_index/01.09.version/transcripts_to_genes_introns_true.txt'}"
      ]
     },
     "execution_count": 10,
     "metadata": {},
     "output_type": "execute_result"
    }
   ],
   "source": [
    "# Run the function to generate the transcripts to genes file :\n",
    "\n",
    "ref.create_t2g_from_gtf(path_to_gtf, path_to_output, intron = True) \n"
   ]
  }
 ],
 "metadata": {
  "kernelspec": {
   "display_name": "Python 3 (ipykernel)",
   "language": "python",
   "name": "python3"
  },
  "language_info": {
   "codemirror_mode": {
    "name": "ipython",
    "version": 3
   },
   "file_extension": ".py",
   "mimetype": "text/x-python",
   "name": "python",
   "nbconvert_exporter": "python",
   "pygments_lexer": "ipython3",
   "version": "3.11.4"
  }
 },
 "nbformat": 4,
 "nbformat_minor": 5
}
