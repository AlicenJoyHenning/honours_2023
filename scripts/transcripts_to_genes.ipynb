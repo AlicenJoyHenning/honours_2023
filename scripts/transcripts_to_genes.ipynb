{
 "cells": [
  {
   "cell_type": "code",
   "execution_count": 9,
   "id": "dcf2eeb0",
   "metadata": {},
   "outputs": [
    {
     "data": {
      "text/plain": [
       "'C:\\\\Users\\\\alice'"
      ]
     },
     "execution_count": 9,
     "metadata": {},
     "output_type": "execute_result"
    }
   ],
   "source": [
    "pwd"
   ]
  },
  {
   "cell_type": "code",
   "execution_count": 15,
   "id": "9ec7b27b",
   "metadata": {},
   "outputs": [],
   "source": [
    "import kb_python\n",
    "import re"
   ]
  },
  {
   "cell_type": "code",
   "execution_count": 17,
   "id": "0a6f7a4e",
   "metadata": {},
   "outputs": [],
   "source": [
    "from kb_python import ref"
   ]
  },
  {
   "cell_type": "code",
   "execution_count": 18,
   "id": "40a928b5",
   "metadata": {},
   "outputs": [
    {
     "name": "stdout",
     "output_type": "stream",
     "text": [
      "['COMBINED_FILENAME', 'FASTA', 'GTF', 'SORTED_FASTA_FILENAME', 'SORTED_GTF_FILENAME', '__builtins__', '__cached__', '__doc__', '__file__', '__loader__', '__name__', '__package__', '__spec__', 'concatenate_files', 'create_t2c', 'create_t2g_from_fasta', 'create_t2g_from_gtf', 'download_reference', 'generate_cdna_fasta', 'generate_intron_fasta', 'get_kallisto_binary_path', 'kallisto_index', 'logger', 'logging', 'open_as_text', 'os', 'ref', 'ref_lamanno', 'run_executable', 'sort_fasta', 'sort_gtf', 'tarfile', 'urlretrieve']\n"
     ]
    }
   ],
   "source": [
    "print(dir(ref))"
   ]
  },
  {
   "cell_type": "code",
   "execution_count": 19,
   "id": "6d39c2c2",
   "metadata": {},
   "outputs": [
    {
     "data": {
      "text/plain": [
       "{'t2g': 'honours_2023/kallisto_index/transcripts_to_genes'}"
      ]
     },
     "execution_count": 19,
     "metadata": {},
     "output_type": "execute_result"
    }
   ],
   "source": [
    "# Enter paths as variables\n",
    "path_to_gtf = \"honours_2023/kallisto_index/Homo_sapiens.GRCh38.110.gtf.gz\"\n",
    "path_to_output = \"honours_2023/kallisto_index/transcripts_to_genes\"\n",
    "\n",
    "ref.create_t2g_from_gtf(path_to_gtf, path_to_output, intron=False )"
   ]
  },
  {
   "cell_type": "code",
   "execution_count": null,
   "id": "17bddd52",
   "metadata": {},
   "outputs": [],
   "source": []
  }
 ],
 "metadata": {
  "kernelspec": {
   "display_name": "Python 3 (ipykernel)",
   "language": "python",
   "name": "python3"
  },
  "language_info": {
   "codemirror_mode": {
    "name": "ipython",
    "version": 3
   },
   "file_extension": ".py",
   "mimetype": "text/x-python",
   "name": "python",
   "nbconvert_exporter": "python",
   "pygments_lexer": "ipython3",
   "version": "3.10.9"
  }
 },
 "nbformat": 4,
 "nbformat_minor": 5
}
