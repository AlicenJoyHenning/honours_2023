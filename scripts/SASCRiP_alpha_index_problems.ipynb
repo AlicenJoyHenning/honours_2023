{
 "cells": [
  {
   "cell_type": "code",
   "execution_count": 5,
   "id": "3b230744-e07f-4630-b026-ff8384a81130",
   "metadata": {},
   "outputs": [
    {
     "data": {
      "text/plain": [
       "'/home/intel6700/Alicen'"
      ]
     },
     "execution_count": 5,
     "metadata": {},
     "output_type": "execute_result"
    }
   ],
   "source": [
    "pwd"
   ]
  },
  {
   "cell_type": "code",
   "execution_count": 2,
   "id": "60382f22-2d0e-4b89-8f12-5a8a683c5bfc",
   "metadata": {},
   "outputs": [
    {
     "name": "stdout",
     "output_type": "stream",
     "text": [
      "/home/intel6700\n"
     ]
    }
   ],
   "source": [
    "cd ~"
   ]
  },
  {
   "cell_type": "code",
   "execution_count": 9,
   "id": "7d6c27e2-2597-4102-bb51-bb9ebe421320",
   "metadata": {},
   "outputs": [
    {
     "name": "stdout",
     "output_type": "stream",
     "text": [
      "/home/intel6700\n"
     ]
    }
   ],
   "source": [
    "cd .."
   ]
  },
  {
   "cell_type": "code",
   "execution_count": 4,
   "id": "bfc9eae6-a92e-40ef-b91a-5d3fbaf2e71e",
   "metadata": {},
   "outputs": [],
   "source": [
    "# Workflow for working with more than one set (R1 R2) of fastq files \n",
    "import SASCRiP \n",
    "import time\n",
    "from SASCRiP import sascrip_functions "
   ]
  },
  {
   "cell_type": "code",
   "execution_count": 14,
   "id": "156a9dc8-9da6-46b2-9b6e-19ad8d9f43ab",
   "metadata": {},
   "outputs": [
    {
     "name": "stdout",
     "output_type": "stream",
     "text": [
      "CPU times: user 420 ms, sys: 234 ms, total: 654 ms\n",
      "Wall time: 13min 30s\n"
     ]
    },
    {
     "data": {
      "text/plain": [
       "{'transcript_to_genes': 'Alicen/work_files/index_files/transcripts_to_genes',\n",
       " 'ec_mapping_file': 'Alicen/work_files/ifnalpha/kallisto_bustools_count/Count_analysis/matrix.ec'}"
      ]
     },
     "execution_count": 14,
     "metadata": {},
     "output_type": "execute_result"
    }
   ],
   "source": [
    "%%time\n",
    "# kallisto_bustools_count\n",
    "\n",
    "# Create variables for parameters : \n",
    "list_of_fastqs = \"Alicen/raw_files/fastq/human_blood_ifnalpha/\"\n",
    "single_cell_technology = \"10Xv3\"\n",
    "output_directory_path = \"Alicen/work_files/ifnalpha/kallisto_bustools_count\"\n",
    "species_index = \"Alicen/work_files/index_files/kallisto_index.idx\"\n",
    "species_t2g = \"Alicen/work_files/index_files/transcripts_to_genes\"\n",
    "input_directory = True\n",
    "read_separator = [\"R1\", \"R2\"]\n",
    "\n",
    "# execute the function : \n",
    "sascrip_functions.kallisto_bustools_count(\n",
    "    list_of_fastqs = list_of_fastqs, \n",
    "    single_cell_technology = single_cell_technology,\n",
    "    output_directory_path = output_directory_path,\n",
    "    species_index = species_index, \n",
    "    species_t2g = species_t2g, \n",
    "    input_directory = input_directory,\n",
    "    read_separator = read_separator \n",
    ")\n"
   ]
  },
  {
   "cell_type": "code",
   "execution_count": 13,
   "id": "1a4b8346-fccd-490e-a06b-465ff5bee84a",
   "metadata": {},
   "outputs": [
    {
     "name": "stdout",
     "output_type": "stream",
     "text": [
      "CPU times: user 42.1 s, sys: 336 ms, total: 42.4 s\n",
      "Wall time: 21min 7s\n"
     ]
    },
    {
     "data": {
      "text/plain": [
       "{'transcript_to_genes': 'Alicen/work_files/ifnalpha/kallisto_bustools_count/transcripts_to_genes.txt',\n",
       " 'ec_mapping_file': 'Alicen/work_files/ifnalpha/kallisto_bustools_count/Count_analysis/matrix.ec'}"
      ]
     },
     "execution_count": 13,
     "metadata": {},
     "output_type": "execute_result"
    }
   ],
   "source": [
    "%%time\n",
    "# kallisto_bustools_count with inbuilt index \n",
    "\n",
    "# Create variables for parameters : \n",
    "list_of_fastqs = \"Alicen/raw_files/fastq/human_blood_ifnalpha/\"\n",
    "single_cell_technology = \"10Xv3\"\n",
    "output_directory_path = \"Alicen/work_files/ifnalpha/kallisto_bustools_count\"\n",
    "species_index = None\n",
    "species_t2g = None \n",
    "input_directory = True\n",
    "read_separator = [\"R1\", \"R2\"]\n",
    "generate_index = True \n",
    "species_fasta = \"Alicen/work_files/index_files/human_reference.fa.gz\"\n",
    "species_gtf = \"Alicen/work_files/index_files/human_reference.gtf.gz\"\n",
    "\n",
    "# execute the function : \n",
    "sascrip_functions.kallisto_bustools_count(\n",
    "    list_of_fastqs = list_of_fastqs, \n",
    "    single_cell_technology = single_cell_technology,\n",
    "    output_directory_path = output_directory_path,\n",
    "    species_index = species_index, \n",
    "    species_t2g = species_t2g, \n",
    "    input_directory = input_directory,\n",
    "    read_separator = read_separator, \n",
    "    generate_index = generate_index,\n",
    "    species_fasta = species_fasta,\n",
    "    species_gtf = species_gtf\n",
    ")\n"
   ]
  },
  {
   "cell_type": "code",
   "execution_count": 17,
   "id": "8c036262-d06c-4353-b410-6cf7b920e54f",
   "metadata": {
    "scrolled": true
   },
   "outputs": [
    {
     "name": "stdout",
     "output_type": "stream",
     "text": [
      "CPU times: user 18.9 ms, sys: 436 µs, total: 19.3 ms\n",
      "Wall time: 4min 37s\n"
     ]
    }
   ],
   "source": [
    "%%time\n",
    "# seurat_matrix with hgnc true\n",
    "\n",
    "# Create variables for parameters : \n",
    "matrix_file = \"Alicen/work_files/ifnalpha/kallisto_bustools_count/Count_analysis/filtered_counts/filtered_counts.mtx\"\n",
    "gene_index = \"Alicen/work_files/ifnalpha/kallisto_bustools_count/Count_analysis/filtered_counts/filtered_counts.genes.txt\"\n",
    "barcode_index = \"Alicen/work_files/ifnalpha/kallisto_bustools_count/Count_analysis/filtered_counts/filtered_counts.barcodes.txt\"\n",
    "output_directory = \"Alicen/work_files/ifnalpha/seurat_matrix\"\n",
    "t2g_file = \"Alicen/work_files/index_files/transcripts_to_genes\"\n",
    "\n",
    "# execute the function : \n",
    "sascrip_functions.seurat_matrix(\n",
    "    matrix_file = matrix_file,\n",
    "    gene_index = gene_index,\n",
    "    barcode_index = barcode_index,\n",
    "    output_directory = output_directory, \n",
    "    t2g_file = t2g_file,\n",
    "    add_hgnc = True\n",
    ")\n"
   ]
  },
  {
   "cell_type": "code",
   "execution_count": 18,
   "id": "f79a0ffd-78d8-490a-bb25-76ad25c258cc",
   "metadata": {},
   "outputs": [
    {
     "name": "stdout",
     "output_type": "stream",
     "text": [
      "── Attaching core tidyverse packages ──────────────────────── tidyverse 2.0.0 ──\n",
      "✔ dplyr     1.1.2     ✔ readr     2.1.4\n",
      "✔ forcats   1.0.0     ✔ stringr   1.5.0\n",
      "✔ ggplot2   3.4.2     ✔ tibble    3.2.1\n",
      "✔ lubridate 1.9.2     ✔ tidyr     1.3.0\n",
      "✔ purrr     1.0.1     \n",
      "── Conflicts ────────────────────────────────────────── tidyverse_conflicts() ──\n",
      "✖ dplyr::filter() masks stats::filter()\n",
      "✖ dplyr::lag()    masks stats::lag()\n",
      "ℹ Use the conflicted package (<http://conflicted.r-lib.org/>) to force all conflicts to become errors\n",
      "The legacy packages maptools, rgdal, and rgeos, underpinning the sp package,\n",
      "which was just loaded, will retire in October 2023.\n",
      "Please refer to R-spatial evolution reports for details, especially\n",
      "https://r-spatial.org/r/2023/05/15/evolution4.html.\n",
      "It may be desirable to make the sf package available;\n",
      "package maintainers should consider adding sf to Suggests:.\n",
      "The sp package is now running under evolution status 2\n",
      "     (status 2 uses the sf package in place of rgdal)\n",
      "Attaching SeuratObject\n",
      "\n",
      "Attaching package: ‘gridExtra’\n",
      "\n",
      "The following object is masked from ‘package:dplyr’:\n",
      "\n",
      "    combine\n",
      "\n",
      "\n",
      "Attaching package: ‘Matrix’\n",
      "\n",
      "The following objects are masked from ‘package:tidyr’:\n",
      "\n",
      "    expand, pack, unpack\n",
      "\n",
      "Error: Feature names of counts matrix cannot be empty\n",
      "Execution halted\n",
      "\n",
      "[1] \"Generating the Seurat object from a gene-count matrix\"\n",
      "\n",
      "CPU times: user 0 ns, sys: 3.68 ms, total: 3.68 ms\n",
      "Wall time: 7.27 s\n"
     ]
    }
   ],
   "source": [
    "%%time\n",
    "# run_cqc with hgnc true\n",
    "\n",
    "# Create variables for parameters: \n",
    "input_file_or_folder = \"Alicen/work_files/ifnalpha/seurat_matrix\"\n",
    "sample_ID = \"ifnalpha\"\n",
    "output_directory_path = \"Alicen/work_files/ifnalpha/run_cqc\"\n",
    "gene_column = 2 \n",
    "\n",
    "# execute the function : \n",
    "sascrip_functions.run_cqc(\n",
    "    input_file_or_folder = input_file_or_folder,\n",
    "    sample_ID = sample_ID,\n",
    "    output_directory_path = output_directory_path,\n",
    "    gene_column = gene_column\n",
    ")\n"
   ]
  },
  {
   "cell_type": "code",
   "execution_count": 19,
   "id": "66e1da08-d6b8-495a-a96d-927d42cddd21",
   "metadata": {
    "scrolled": true
   },
   "outputs": [
    {
     "name": "stdout",
     "output_type": "stream",
     "text": [
      "CPU times: user 6.17 ms, sys: 85 µs, total: 6.25 ms\n",
      "Wall time: 7.69 s\n"
     ]
    }
   ],
   "source": [
    "%%time\n",
    "# seurat_matrix with hgnc false\n",
    "\n",
    "# Create variables for parameters : \n",
    "matrix_file = \"Alicen/work_files/ifnalpha/kallisto_bustools_count/Count_analysis/filtered_counts/filtered_counts.mtx\"\n",
    "gene_index = \"Alicen/work_files/ifnalpha/kallisto_bustools_count/Count_analysis/filtered_counts/filtered_counts.genes.txt\"\n",
    "barcode_index = \"Alicen/work_files/ifnalpha/kallisto_bustools_count/Count_analysis/filtered_counts/filtered_counts.barcodes.txt\"\n",
    "output_directory = \"Alicen/work_files/ifnalpha/seurat_matrix\"\n",
    "t2g_file = None\n",
    "\n",
    "# execute the function : \n",
    "sascrip_functions.seurat_matrix(\n",
    "    matrix_file = matrix_file,\n",
    "    gene_index = gene_index,\n",
    "    barcode_index = barcode_index,\n",
    "    output_directory = output_directory, \n",
    "    t2g_file = t2g_file,\n",
    "    add_hgnc = False\n",
    ")\n"
   ]
  },
  {
   "cell_type": "code",
   "execution_count": 20,
   "id": "f1579e96-c15d-43a1-8345-e0195029c39a",
   "metadata": {},
   "outputs": [
    {
     "name": "stdout",
     "output_type": "stream",
     "text": [
      "── Attaching core tidyverse packages ──────────────────────── tidyverse 2.0.0 ──\n",
      "✔ dplyr     1.1.2     ✔ readr     2.1.4\n",
      "✔ forcats   1.0.0     ✔ stringr   1.5.0\n",
      "✔ ggplot2   3.4.2     ✔ tibble    3.2.1\n",
      "✔ lubridate 1.9.2     ✔ tidyr     1.3.0\n",
      "✔ purrr     1.0.1     \n",
      "── Conflicts ────────────────────────────────────────── tidyverse_conflicts() ──\n",
      "✖ dplyr::filter() masks stats::filter()\n",
      "✖ dplyr::lag()    masks stats::lag()\n",
      "ℹ Use the conflicted package (<http://conflicted.r-lib.org/>) to force all conflicts to become errors\n",
      "The legacy packages maptools, rgdal, and rgeos, underpinning the sp package,\n",
      "which was just loaded, will retire in October 2023.\n",
      "Please refer to R-spatial evolution reports for details, especially\n",
      "https://r-spatial.org/r/2023/05/15/evolution4.html.\n",
      "It may be desirable to make the sf package available;\n",
      "package maintainers should consider adding sf to Suggests:.\n",
      "The sp package is now running under evolution status 2\n",
      "     (status 2 uses the sf package in place of rgdal)\n",
      "Attaching SeuratObject\n",
      "\n",
      "Attaching package: ‘gridExtra’\n",
      "\n",
      "The following object is masked from ‘package:dplyr’:\n",
      "\n",
      "    combine\n",
      "\n",
      "\n",
      "Attaching package: ‘Matrix’\n",
      "\n",
      "The following objects are masked from ‘package:tidyr’:\n",
      "\n",
      "    expand, pack, unpack\n",
      "\n",
      "Error: 'None' does not exist in current working directory ('/home/intel6700').\n",
      "Execution halted\n",
      "\n",
      "[1] \"Generating the Seurat object from a gene-count matrix\"\n",
      "[1] \"Seurat object contains ENSEMBL gene names\"\n",
      "[1] \"Looking for tsv file containing ENSG names and HGNC gene symbols\"\n",
      "\n",
      "CPU times: user 4.44 ms, sys: 16 µs, total: 4.46 ms\n",
      "Wall time: 7.91 s\n"
     ]
    }
   ],
   "source": [
    "%%time\n",
    "# run_cqc with hgnc false\n",
    "\n",
    "# Create variables for parameters: \n",
    "input_file_or_folder = \"Alicen/work_files/ifnalpha/seurat_matrix\"\n",
    "sample_ID = \"ifnalpha\"\n",
    "output_directory_path = \"Alicen/work_files/ifnalpha/run_cqc\"\n",
    "generate_seurat_object = True\n",
    "gene_column = 1 \n",
    "input_seurat_object = False\n",
    "\n",
    "# execute the function : \n",
    "sascrip_functions.run_cqc(\n",
    "    input_file_or_folder = input_file_or_folder,\n",
    "    sample_ID = sample_ID,\n",
    "    output_directory_path = output_directory_path,\n",
    "    generate_seurat_object = generate_seurat_object,\n",
    "    gene_column = gene_column, \n",
    "    input_seurat_object = input_seurat_object\n",
    ")\n"
   ]
  },
  {
   "cell_type": "code",
   "execution_count": 27,
   "id": "2521a44a-5f76-41b7-8617-19c449e026c8",
   "metadata": {},
   "outputs": [
    {
     "name": "stdout",
     "output_type": "stream",
     "text": [
      "CPU times: user 7.59 ms, sys: 5.85 ms, total: 13.4 ms\n",
      "Wall time: 2min 11s\n"
     ]
    }
   ],
   "source": [
    "%%time\n",
    "# sctransform_normalize \n",
    "\n",
    "# Create variables for parameters : \n",
    "seurat_object = \"Alicen/work_files/ifnalpha/run_cqc/ifnalpha_preQC_seurat.rds\"\n",
    "sample_ID = \"alpha_test\"\n",
    "output_directory_path = \"Alicen/work_files/ifnalpha/sctransform_normalize\"\n",
    "\n",
    "# Execute the function : \n",
    "sascrip_functions.sctransform_normalize(\n",
    "    seurat_object = seurat_object,\n",
    "    sample_ID = sample_ID,\n",
    "    output_directory_path = output_directory_path\n",
    ")\n"
   ]
  }
 ],
 "metadata": {
  "kernelspec": {
   "display_name": "Python 3 (ipykernel)",
   "language": "python",
   "name": "python3"
  },
  "language_info": {
   "codemirror_mode": {
    "name": "ipython",
    "version": 3
   },
   "file_extension": ".py",
   "mimetype": "text/x-python",
   "name": "python",
   "nbconvert_exporter": "python",
   "pygments_lexer": "ipython3",
   "version": "3.10.11"
  }
 },
 "nbformat": 4,
 "nbformat_minor": 5
}
